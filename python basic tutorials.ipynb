{
 "cells": [
  {
   "cell_type": "markdown",
   "id": "b94d8404",
   "metadata": {},
   "source": [
    "# Python Programming\n",
    "\n",
    "Python is a dynamically typed, General Purpose Programming language that supports an object-oriented programming approach as well as a functional approach.\n",
    "Python is also an interpreted and high-level programming language.\n",
    "It was created by Guido Van Rossum in 1989."
   ]
  },
  {
   "cell_type": "markdown",
   "id": "3fa05153",
   "metadata": {},
   "source": [
    "## What is Python?\n",
    "Python is an interpreted, object-oriented, high-level programming language with dynamic semantics. Python syntax are easy compared to other languages. "
   ]
  },
  {
   "cell_type": "markdown",
   "id": "ae5b8a6c",
   "metadata": {},
   "source": [
    "# # Features of Python Programming \n",
    "\n",
    "*Easy to Learn and Implement\n",
    "\n",
    "*Open Source\n",
    "\n",
    "*Broad Standard Library\n",
    "\n",
    "*Cross Platform\n",
    "\n",
    "*Work on Interpreter Logic\n",
    "\n",
    "*Multi-Paradigm Language\n",
    "\n",
    "*High Level Programming\n",
    "\n",
    "*Extendable Language\n",
    "\n",
    "*Expressive Programming\n",
    "\n",
    "*GUI Progrmming Support\n",
    "\n",
    "*Integrate other programming languages"
   ]
  },
  {
   "cell_type": "markdown",
   "id": "dd2b0382",
   "metadata": {},
   "source": [
    "## Application Of Python\n",
    "\n",
    "#Network Programming\n",
    "\n",
    "#Data Analysis\n",
    "\n",
    "#Robotics\n",
    "\n",
    "#Website Development\n",
    "\n",
    "#Application Development\n",
    "\n",
    "#Dextop Application\n",
    "\n",
    "#Game Development\n",
    "\n",
    "#Web Scraping\n",
    "\n",
    "#Data Visualization\n",
    "\n",
    "#Calculation\n",
    "\n",
    "#Maching Learning\n",
    "\n",
    "#Artificial Intelligence\n",
    "\n",
    "#3D Application Development\n",
    "\n",
    "#Audio & Video Software Development\n"
   ]
  },
  {
   "cell_type": "markdown",
   "id": "b887d959",
   "metadata": {},
   "source": [
    "### Version:\n",
    "After installation check the version of python by typing following command: ‘python --version’."
   ]
  },
  {
   "cell_type": "markdown",
   "id": "cbf467f8",
   "metadata": {},
   "source": [
    "### Installing Packages:\n",
    "To install packages in Python, we use the pip command. \n",
    "e.g. pip install \"Package Name\"\n",
    "\n",
    "Following command installs pandas package in Python\n",
    "\n",
    "pip install pandas"
   ]
  },
  {
   "cell_type": "markdown",
   "id": "6e013d71",
   "metadata": {},
   "source": [
    "#### What is Syntax?\n",
    "In simplest words, Syntax is the arrangement of words and phrases to create well-formed sentences in a language."
   ]
  },
  {
   "cell_type": "markdown",
   "id": "a889e6ef",
   "metadata": {},
   "source": [
    "#### Python Comments\n",
    "A comment is a part of the coding file that the programmer does not want to execute, rather the programmer uses it to either explain a block of code or to avoid the execution of a specific part of code while testing."
   ]
  },
  {
   "cell_type": "markdown",
   "id": "17bcb3d0",
   "metadata": {},
   "source": [
    "##### Single-Line Comments:\n",
    "To write a comment just add a ‘#’ at the start of the line."
   ]
  },
  {
   "cell_type": "markdown",
   "id": "78c3f0bb",
   "metadata": {},
   "source": [
    "##### Multi-Line Comments:\n",
    "To write multi-line comments you can use ‘#’ at each line or you can use the multiline string."
   ]
  },
  {
   "cell_type": "markdown",
   "id": "d8789287",
   "metadata": {},
   "source": [
    "## Python Variables\n",
    "Variables are containers that store information that can be manipulated and referenced later by the programmer within the code.\n",
    "\n",
    "Data/Values can be stored in temparary storage spaces called Variables.\n",
    "\n",
    "In python, the programmer does not need to declare the variable type explicitly, we just need to assign the value to the variable."
   ]
  },
  {
   "cell_type": "markdown",
   "id": "e470546e",
   "metadata": {},
   "source": [
    "### Naming the Variable\n",
    "\n",
    "It is always advisable to keep variable names descriptive and to follow a set of conventions while creating variables:\n",
    "\n",
    "Variable name can only contain alpha-numeric characters and underscores (A-z, 0-9, and _ )\n",
    "Variable name must start with a letter or the underscore character.\n",
    "Variables are case sensitive.\n",
    "Variable name cannot start with a number."
   ]
  },
  {
   "cell_type": "markdown",
   "id": "39440871",
   "metadata": {},
   "source": [
    "### Scope of variable:\n",
    "The scope of the variable is the area within which the variable has been created. Based on this a variable can either have a local scope or a global scope."
   ]
  },
  {
   "cell_type": "markdown",
   "id": "fb29f25a",
   "metadata": {},
   "source": [
    "#### Local Variable:\n",
    "A local variable is created within a function and can be only used inside that function. Such a variable has a local scope."
   ]
  },
  {
   "cell_type": "code",
   "execution_count": 1,
   "id": "a77fd811",
   "metadata": {},
   "outputs": [
    {
     "name": "stdout",
     "output_type": "stream",
     "text": [
      "Potato is a local variable value.\n",
      "Vanilla is a global variable value.\n",
      "Lichi is a local variable value.\n"
     ]
    }
   ],
   "source": [
    "icecream = \"Vanilla\"    #global variable\n",
    "def foods():\n",
    "    vegetable = \"Potato\"    #local variable\n",
    "    fruit = \"Lichi\"         #local variable\n",
    "    print(vegetable + \" is a local variable value.\")\n",
    "    print(icecream + \" is a global variable value.\")\n",
    "    print(fruit + \" is a local variable value.\")\n",
    "\n",
    "foods()"
   ]
  },
  {
   "cell_type": "markdown",
   "id": "80d423b7",
   "metadata": {},
   "source": [
    "##### Global Variable:\n",
    "A global variable is created in the main body of the code and can be used anywhere within the code. Such a variable has a global scope."
   ]
  },
  {
   "cell_type": "code",
   "execution_count": 2,
   "id": "c5ee2e50",
   "metadata": {
    "scrolled": false
   },
   "outputs": [
    {
     "name": "stdout",
     "output_type": "stream",
     "text": [
      "Hello world\n"
     ]
    }
   ],
   "source": [
    "print(\"Hello world\")"
   ]
  },
  {
   "cell_type": "code",
   "execution_count": 3,
   "id": "30469776",
   "metadata": {},
   "outputs": [
    {
     "ename": "SyntaxError",
     "evalue": "invalid syntax (1289287458.py, line 1)",
     "output_type": "error",
     "traceback": [
      "\u001b[1;36m  Cell \u001b[1;32mIn[3], line 1\u001b[1;36m\u001b[0m\n\u001b[1;33m    Rules:\u001b[0m\n\u001b[1;37m          ^\u001b[0m\n\u001b[1;31mSyntaxError\u001b[0m\u001b[1;31m:\u001b[0m invalid syntax\n"
     ]
    }
   ],
   "source": [
    "Rules:\n",
    "# /variables are any combination of letter,digits.\n",
    "# Variables are case sensitive.\n",
    "\n"
   ]
  },
  {
   "cell_type": "code",
   "execution_count": null,
   "id": "666e3e64",
   "metadata": {},
   "outputs": [],
   "source": [
    "student=\"sam\"\n",
    "print(student)"
   ]
  },
  {
   "cell_type": "code",
   "execution_count": null,
   "id": "23422b2e",
   "metadata": {},
   "outputs": [],
   "source": [
    "student=\"ram\"\n",
    "print(student)"
   ]
  },
  {
   "cell_type": "markdown",
   "id": "0c37a68f",
   "metadata": {},
   "source": [
    "## DataTypes In Python\n",
    "Every variable is associated with a data-type."
   ]
  },
  {
   "cell_type": "markdown",
   "id": "b4bbb399",
   "metadata": {},
   "source": [
    "*int: -   10,500"
   ]
  },
  {
   "cell_type": "markdown",
   "id": "b995b0b7",
   "metadata": {},
   "source": [
    "*float:-3.14,5.21 "
   ]
  },
  {
   "cell_type": "markdown",
   "id": "899c0ba5",
   "metadata": {},
   "source": [
    "*Boolean:-True,False"
   ]
  },
  {
   "cell_type": "markdown",
   "id": "51fb7220",
   "metadata": {},
   "source": [
    "*complex:-2+3j"
   ]
  },
  {
   "cell_type": "markdown",
   "id": "1900fd8d",
   "metadata": {},
   "source": [
    "*str:- sam,cat"
   ]
  },
  {
   "cell_type": "code",
   "execution_count": null,
   "id": "95b7cce3",
   "metadata": {},
   "outputs": [],
   "source": [
    "a1=10\n",
    "print(type(a1))"
   ]
  },
  {
   "cell_type": "code",
   "execution_count": null,
   "id": "d94560b3",
   "metadata": {},
   "outputs": [],
   "source": [
    "a1=3.14\n",
    "print(type(a1))"
   ]
  },
  {
   "cell_type": "code",
   "execution_count": null,
   "id": "06bf2cf2",
   "metadata": {},
   "outputs": [],
   "source": [
    "a1=True\n",
    "print(type(a1))"
   ]
  },
  {
   "cell_type": "code",
   "execution_count": null,
   "id": "a21826bc",
   "metadata": {},
   "outputs": [],
   "source": [
    "a1=\"hello world\"\n",
    "print(type(a1))"
   ]
  },
  {
   "cell_type": "code",
   "execution_count": null,
   "id": "4e467158",
   "metadata": {},
   "outputs": [],
   "source": [
    "a1=3+2j\n",
    "print(type(a1))"
   ]
  },
  {
   "cell_type": "markdown",
   "id": "8862a609",
   "metadata": {},
   "source": [
    "### Data Conversion\n",
    "The process of converting numeric data from one type to another is called as type conversion.\n",
    "To convert from integer to float, we use float() function."
   ]
  },
  {
   "cell_type": "code",
   "execution_count": null,
   "id": "efe7ad35",
   "metadata": {},
   "outputs": [],
   "source": [
    "num1 = -25\n",
    "num2 = float(num1)\n",
    "num3 = complex(num1)\n",
    "\n",
    "print(num2)\n",
    "print(num3)"
   ]
  },
  {
   "cell_type": "markdown",
   "id": "fa0cfd29",
   "metadata": {},
   "source": [
    "### Type Casting\n",
    "Similar to type conversion, type casting is done when we want to specify a type on a variable. "
   ]
  },
  {
   "cell_type": "code",
   "execution_count": 4,
   "id": "173bcd03",
   "metadata": {},
   "outputs": [
    {
     "name": "stdout",
     "output_type": "stream",
     "text": [
      "7\n",
      "3.142\n",
      "13.0\n",
      "29\n",
      "6.67\n"
     ]
    }
   ],
   "source": [
    "str1 = \"7\"          \n",
    "str2 = \"3.142\"\n",
    "str3 = \"13\"\n",
    "num1 = 29\n",
    "num2 = 6.67\n",
    "\n",
    "print(int(str1))\n",
    "print(float(str2))\n",
    "print(float(str3))\n",
    "print(str(num1))\n",
    "print(str(num2))"
   ]
  },
  {
   "cell_type": "markdown",
   "id": "7d2c5977",
   "metadata": {},
   "source": [
    "# Operators In Python\n",
    "Python has different types of operators for different operations. They are as follows:\n",
    "\n",
    " "
   ]
  },
  {
   "cell_type": "markdown",
   "id": "21b0b8db",
   "metadata": {},
   "source": [
    "## Arithmetic operaters\n",
    "\"+\" :-Addition\n",
    "\n",
    "\"-\":-Subtration\n",
    "\n",
    "\"*\":- Multiplication\n",
    "\n",
    "\"/\":-Division \n",
    "\n",
    "\"%\":- Modulus\n",
    "\n",
    "\"//\":-Floor Division"
   ]
  },
  {
   "cell_type": "markdown",
   "id": "6add55ad",
   "metadata": {},
   "source": [
    "#+, -, *, /, **, %, //"
   ]
  },
  {
   "cell_type": "code",
   "execution_count": 5,
   "id": "66c94dbd",
   "metadata": {},
   "outputs": [],
   "source": [
    "a=54\n",
    "b=21"
   ]
  },
  {
   "cell_type": "code",
   "execution_count": 6,
   "id": "3ff2844c",
   "metadata": {},
   "outputs": [
    {
     "name": "stdout",
     "output_type": "stream",
     "text": [
      "54 21\n"
     ]
    }
   ],
   "source": [
    "print(a,b)"
   ]
  },
  {
   "cell_type": "code",
   "execution_count": 7,
   "id": "cc100756",
   "metadata": {},
   "outputs": [
    {
     "name": "stdout",
     "output_type": "stream",
     "text": [
      "75\n"
     ]
    }
   ],
   "source": [
    "print(a+b)"
   ]
  },
  {
   "cell_type": "code",
   "execution_count": 8,
   "id": "0e83dd4a",
   "metadata": {},
   "outputs": [
    {
     "name": "stdout",
     "output_type": "stream",
     "text": [
      "33\n"
     ]
    }
   ],
   "source": [
    "print(a-b)"
   ]
  },
  {
   "cell_type": "code",
   "execution_count": 9,
   "id": "d5b09208",
   "metadata": {},
   "outputs": [
    {
     "name": "stdout",
     "output_type": "stream",
     "text": [
      "1134\n"
     ]
    }
   ],
   "source": [
    "print(a*b)"
   ]
  },
  {
   "cell_type": "code",
   "execution_count": 10,
   "id": "ba0947fd",
   "metadata": {},
   "outputs": [
    {
     "name": "stdout",
     "output_type": "stream",
     "text": [
      "2.5714285714285716\n"
     ]
    }
   ],
   "source": [
    "print(a/b)"
   ]
  },
  {
   "cell_type": "code",
   "execution_count": 11,
   "id": "4b681760",
   "metadata": {},
   "outputs": [
    {
     "name": "stdout",
     "output_type": "stream",
     "text": [
      "2916\n"
     ]
    }
   ],
   "source": [
    "print(a**2)"
   ]
  },
  {
   "cell_type": "code",
   "execution_count": 12,
   "id": "43bb0f50",
   "metadata": {},
   "outputs": [
    {
     "name": "stdout",
     "output_type": "stream",
     "text": [
      "12\n"
     ]
    }
   ],
   "source": [
    "print(a%b)"
   ]
  },
  {
   "cell_type": "code",
   "execution_count": 13,
   "id": "0dd24ed7",
   "metadata": {},
   "outputs": [
    {
     "name": "stdout",
     "output_type": "stream",
     "text": [
      "2\n"
     ]
    }
   ],
   "source": [
    "print(a//b)"
   ]
  },
  {
   "cell_type": "markdown",
   "id": "fdf486a6",
   "metadata": {},
   "source": [
    "#### Assignment operators:\n",
    "These operators are used to assign values to variables."
   ]
  },
  {
   "cell_type": "code",
   "execution_count": 14,
   "id": "c5659931",
   "metadata": {},
   "outputs": [
    {
     "data": {
      "text/plain": [
       "54"
      ]
     },
     "execution_count": 14,
     "metadata": {},
     "output_type": "execute_result"
    }
   ],
   "source": [
    "c=a\n",
    "c\n"
   ]
  },
  {
   "cell_type": "code",
   "execution_count": 15,
   "id": "d74f4540",
   "metadata": {},
   "outputs": [
    {
     "data": {
      "text/plain": [
       "21"
      ]
     },
     "execution_count": 15,
     "metadata": {},
     "output_type": "execute_result"
    }
   ],
   "source": [
    "a+=b\n",
    "b"
   ]
  },
  {
   "cell_type": "code",
   "execution_count": 16,
   "id": "f2bfa22d",
   "metadata": {},
   "outputs": [
    {
     "data": {
      "text/plain": [
       "21"
      ]
     },
     "execution_count": 16,
     "metadata": {},
     "output_type": "execute_result"
    }
   ],
   "source": [
    "a-=b\n",
    "b"
   ]
  },
  {
   "cell_type": "code",
   "execution_count": 17,
   "id": "e0c33213",
   "metadata": {},
   "outputs": [
    {
     "data": {
      "text/plain": [
       "21"
      ]
     },
     "execution_count": 17,
     "metadata": {},
     "output_type": "execute_result"
    }
   ],
   "source": [
    "a*b==b\n",
    "b"
   ]
  },
  {
   "cell_type": "markdown",
   "id": "6b33b7c0",
   "metadata": {},
   "source": [
    "### Bitwise operators:\n",
    "Bitwise operators are used to deal with binary operations."
   ]
  },
  {
   "cell_type": "markdown",
   "id": "98f14a10",
   "metadata": {},
   "source": [
    "# \n",
    "Bitwise AND a&b\n",
    "\n",
    "Bitwise OR a|b\n",
    "\n",
    "Bitwise Not ~a\n",
    "\n",
    "Bitwise XOR a^b\n",
    "\n",
    "Bitwise (right shift)  a>>\n",
    "\n",
    "Bitwise (left shift) b<<\n"
   ]
  },
  {
   "cell_type": "markdown",
   "id": "f3b98a80",
   "metadata": {},
   "source": [
    "### Comparison operators:\n",
    "These operators are used to compare values."
   ]
  },
  {
   "cell_type": "markdown",
   "id": "3388aec7",
   "metadata": {},
   "source": [
    "# \n",
    "Equal  ==  a==b\n",
    "\n",
    "Not Equal  !=  a!=b\n",
    "\n",
    "Less Than  <  a>b\n",
    "\n",
    "Greater Than  >  a<b\n",
    "\n",
    "Less Than or Equal to  <=  a>=b\n",
    "\n",
    "Greater Than or Equal to  >=  a<=b"
   ]
  },
  {
   "cell_type": "markdown",
   "id": "27de018f",
   "metadata": {},
   "source": [
    "# Identity operators:\n",
    "\n",
    "is   (a is b)   Returns True if a and b are same\n",
    "\n",
    "is not   (a is not b)   Returns True if a and b are not same"
   ]
  },
  {
   "cell_type": "markdown",
   "id": "fbf7e8e1",
   "metadata": {},
   "source": [
    "### Logical operators:\n",
    "These operators are used to deal with logical operations."
   ]
  },
  {
   "cell_type": "markdown",
   "id": "fbe4ebcc",
   "metadata": {},
   "source": [
    "# \n",
    "AND   and   a=2 and b=3\n",
    "\n",
    "OR   or   a=2 or b=3\n",
    "\n",
    "NOT   not   Not(a=2 or b=3)"
   ]
  },
  {
   "cell_type": "markdown",
   "id": "d980e4ea",
   "metadata": {},
   "source": [
    "### Membership operators:\n",
    "in   (a in b)   Returns True if a is present in given sequence or collection\n",
    "\n",
    "not in   (a not in b)   Returns True if a is not present in given sequence or collection"
   ]
  },
  {
   "cell_type": "code",
   "execution_count": null,
   "id": "7d4cdb11",
   "metadata": {},
   "outputs": [],
   "source": []
  },
  {
   "cell_type": "markdown",
   "id": "e09af2ef",
   "metadata": {},
   "source": [
    "## Relational operaters"
   ]
  },
  {
   "cell_type": "markdown",
   "id": "a2d36010",
   "metadata": {},
   "source": [
    "#<,>,==,!="
   ]
  },
  {
   "cell_type": "code",
   "execution_count": 18,
   "id": "d3c4bbdc",
   "metadata": {},
   "outputs": [],
   "source": [
    "a=30\n",
    "b=35"
   ]
  },
  {
   "cell_type": "code",
   "execution_count": 19,
   "id": "67721e5a",
   "metadata": {},
   "outputs": [
    {
     "name": "stdout",
     "output_type": "stream",
     "text": [
      "True\n"
     ]
    }
   ],
   "source": [
    "print(a<b)"
   ]
  },
  {
   "cell_type": "code",
   "execution_count": 20,
   "id": "5a9ebe25",
   "metadata": {},
   "outputs": [
    {
     "name": "stdout",
     "output_type": "stream",
     "text": [
      "False\n"
     ]
    }
   ],
   "source": [
    "print(a>b)"
   ]
  },
  {
   "cell_type": "code",
   "execution_count": 21,
   "id": "9b12b3d7",
   "metadata": {},
   "outputs": [
    {
     "name": "stdout",
     "output_type": "stream",
     "text": [
      "False\n"
     ]
    }
   ],
   "source": [
    "print(a==b)"
   ]
  },
  {
   "cell_type": "code",
   "execution_count": 22,
   "id": "109a85fc",
   "metadata": {},
   "outputs": [
    {
     "name": "stdout",
     "output_type": "stream",
     "text": [
      "True\n"
     ]
    }
   ],
   "source": [
    "print(a!=b)"
   ]
  },
  {
   "cell_type": "markdown",
   "id": "42191524",
   "metadata": {},
   "source": [
    "#Logical operaters"
   ]
  },
  {
   "cell_type": "markdown",
   "id": "aacb666b",
   "metadata": {},
   "source": [
    "#& |"
   ]
  },
  {
   "cell_type": "code",
   "execution_count": 23,
   "id": "31ab280f",
   "metadata": {},
   "outputs": [],
   "source": [
    "a=True\n",
    "b=False"
   ]
  },
  {
   "cell_type": "code",
   "execution_count": 24,
   "id": "5c2f77f9",
   "metadata": {},
   "outputs": [
    {
     "name": "stdout",
     "output_type": "stream",
     "text": [
      "False\n"
     ]
    }
   ],
   "source": [
    "print(a&b)"
   ]
  },
  {
   "cell_type": "code",
   "execution_count": 25,
   "id": "b00571c6",
   "metadata": {},
   "outputs": [
    {
     "name": "stdout",
     "output_type": "stream",
     "text": [
      "True\n"
     ]
    }
   ],
   "source": [
    "print(a|b)"
   ]
  },
  {
   "cell_type": "code",
   "execution_count": 26,
   "id": "f46e3894",
   "metadata": {},
   "outputs": [
    {
     "name": "stdout",
     "output_type": "stream",
     "text": [
      "True\n"
     ]
    }
   ],
   "source": [
    "print(b|a)"
   ]
  },
  {
   "cell_type": "code",
   "execution_count": 27,
   "id": "88cfcc01",
   "metadata": {},
   "outputs": [
    {
     "name": "stdout",
     "output_type": "stream",
     "text": [
      "False\n"
     ]
    }
   ],
   "source": [
    "print(b&a)"
   ]
  },
  {
   "cell_type": "code",
   "execution_count": 28,
   "id": "93175d54",
   "metadata": {},
   "outputs": [
    {
     "name": "stdout",
     "output_type": "stream",
     "text": [
      "False\n"
     ]
    }
   ],
   "source": [
    "print(b|b)"
   ]
  },
  {
   "cell_type": "code",
   "execution_count": 29,
   "id": "c17fcf15",
   "metadata": {},
   "outputs": [
    {
     "name": "stdout",
     "output_type": "stream",
     "text": [
      "True\n"
     ]
    }
   ],
   "source": [
    "print(a|a)"
   ]
  },
  {
   "cell_type": "markdown",
   "id": "fcff0943",
   "metadata": {},
   "source": [
    "# Python Tokens\n",
    "Smallest meaningful Components in  Program"
   ]
  },
  {
   "cell_type": "markdown",
   "id": "103539c1",
   "metadata": {},
   "source": [
    "## Python Keywords\n",
    "Keywords are special reserved words"
   ]
  },
  {
   "cell_type": "code",
   "execution_count": null,
   "id": "30d9cb83",
   "metadata": {},
   "outputs": [],
   "source": []
  },
  {
   "cell_type": "code",
   "execution_count": 30,
   "id": "3f0ebb31",
   "metadata": {
    "scrolled": true
   },
   "outputs": [
    {
     "name": "stdout",
     "output_type": "stream",
     "text": [
      "['False', 'None', 'True', 'and', 'as', 'assert', 'async', 'await', 'break', 'class', 'continue', 'def', 'del', 'elif', 'else', 'except', 'finally', 'for', 'from', 'global', 'if', 'import', 'in', 'is', 'lambda', 'nonlocal', 'not', 'or', 'pass', 'raise', 'return', 'try', 'while', 'with', 'yield']\n"
     ]
    }
   ],
   "source": [
    "import keyword\n",
    "print(keyword.kwlist)"
   ]
  },
  {
   "cell_type": "code",
   "execution_count": 31,
   "id": "6b717a37",
   "metadata": {},
   "outputs": [
    {
     "name": "stdout",
     "output_type": "stream",
     "text": [
      "35\n"
     ]
    }
   ],
   "source": [
    "print(len(keyword.kwlist))"
   ]
  },
  {
   "cell_type": "markdown",
   "id": "1006e6c2",
   "metadata": {},
   "source": [
    "## Python Identifiers\n",
    "Identifiers are names used for variables, functions or objects\n",
    "#### Rules:-\n",
    "*NO special characters expect_(underscope)\n"
   ]
  },
  {
   "cell_type": "markdown",
   "id": "8287bb72",
   "metadata": {},
   "source": [
    "*Identifiers are case sensitive"
   ]
  },
  {
   "cell_type": "markdown",
   "id": "f11ff3d2",
   "metadata": {},
   "source": [
    "*First Letter cannot be a digit"
   ]
  },
  {
   "cell_type": "code",
   "execution_count": 32,
   "id": "b02c7a9f",
   "metadata": {},
   "outputs": [
    {
     "name": "stdout",
     "output_type": "stream",
     "text": [
      "amit\n"
     ]
    }
   ],
   "source": [
    "student='amit'\n",
    "print(student)"
   ]
  },
  {
   "cell_type": "code",
   "execution_count": 33,
   "id": "08806c58",
   "metadata": {},
   "outputs": [
    {
     "name": "stdout",
     "output_type": "stream",
     "text": [
      "anil\n"
     ]
    }
   ],
   "source": [
    "Student=\"anil\"\n",
    "print(Student)"
   ]
  },
  {
   "cell_type": "markdown",
   "id": "5c0ecac5",
   "metadata": {},
   "source": [
    "\n",
    "## Python Literals\n",
    "Literals are constants in Python \n",
    "# A\n",
    "I'm a constant. I don't change"
   ]
  },
  {
   "cell_type": "markdown",
   "id": "917db4fe",
   "metadata": {},
   "source": [
    "# Python Strings\n",
    "Strings are sequence of characters enclosed within single quotes('....'), double quotes(\"....\") or triple quotes('''....''') "
   ]
  },
  {
   "cell_type": "code",
   "execution_count": 34,
   "id": "2a1627a8",
   "metadata": {},
   "outputs": [
    {
     "name": "stdout",
     "output_type": "stream",
     "text": [
      "hello world\n"
     ]
    }
   ],
   "source": [
    "a=\"hello world\"\n",
    "print(a)"
   ]
  },
  {
   "cell_type": "code",
   "execution_count": 35,
   "id": "997063e8",
   "metadata": {},
   "outputs": [
    {
     "name": "stdout",
     "output_type": "stream",
     "text": [
      "hello\n"
     ]
    }
   ],
   "source": [
    "str1='hello'\n",
    "print(str1)"
   ]
  },
  {
   "cell_type": "code",
   "execution_count": 36,
   "id": "422f70f0",
   "metadata": {},
   "outputs": [
    {
     "name": "stdout",
     "output_type": "stream",
     "text": [
      "this is my laptop\n"
     ]
    }
   ],
   "source": [
    "str2=\"this is my laptop\"\n",
    "print(str2)"
   ]
  },
  {
   "cell_type": "code",
   "execution_count": 37,
   "id": "e920c476",
   "metadata": {},
   "outputs": [
    {
     "name": "stdout",
     "output_type": "stream",
     "text": [
      "this is\n",
      "has lost\n",
      "of gap to \n",
      "enterpriete\n"
     ]
    }
   ],
   "source": [
    "str3='''this is\n",
    "has lost\n",
    "of gap to \n",
    "enterpriete'''\n",
    "print(str3)"
   ]
  },
  {
   "cell_type": "markdown",
   "id": "3504f115",
   "metadata": {},
   "source": [
    "### Extracting Individual Characters"
   ]
  },
  {
   "cell_type": "code",
   "execution_count": 38,
   "id": "77867765",
   "metadata": {},
   "outputs": [
    {
     "name": "stdout",
     "output_type": "stream",
     "text": [
      "my name is abhi\n"
     ]
    }
   ],
   "source": [
    "s=\"my name is abhi\"\n",
    "print(s)"
   ]
  },
  {
   "cell_type": "code",
   "execution_count": 39,
   "id": "4f12398c",
   "metadata": {},
   "outputs": [
    {
     "data": {
      "text/plain": [
       "'m'"
      ]
     },
     "execution_count": 39,
     "metadata": {},
     "output_type": "execute_result"
    }
   ],
   "source": [
    "s[0]"
   ]
  },
  {
   "cell_type": "code",
   "execution_count": 40,
   "id": "7d0cc8d1",
   "metadata": {},
   "outputs": [
    {
     "data": {
      "text/plain": [
       "'m'"
      ]
     },
     "execution_count": 40,
     "metadata": {},
     "output_type": "execute_result"
    }
   ],
   "source": [
    "s[5]"
   ]
  },
  {
   "cell_type": "code",
   "execution_count": 41,
   "id": "4aeca574",
   "metadata": {},
   "outputs": [
    {
     "data": {
      "text/plain": [
       "'i'"
      ]
     },
     "execution_count": 41,
     "metadata": {},
     "output_type": "execute_result"
    }
   ],
   "source": [
    "s[-1]"
   ]
  },
  {
   "cell_type": "code",
   "execution_count": 42,
   "id": "f4d97b87",
   "metadata": {},
   "outputs": [
    {
     "data": {
      "text/plain": [
       "'name is abhi'"
      ]
     },
     "execution_count": 42,
     "metadata": {},
     "output_type": "execute_result"
    }
   ],
   "source": [
    "s[3:15]"
   ]
  },
  {
   "cell_type": "code",
   "execution_count": 43,
   "id": "05f82deb",
   "metadata": {},
   "outputs": [
    {
     "name": "stdout",
     "output_type": "stream",
     "text": [
      "my name is abhi\n"
     ]
    }
   ],
   "source": [
    "s=\"my name is abhi\"\n",
    "print(s)"
   ]
  },
  {
   "cell_type": "markdown",
   "id": "0b30a92c",
   "metadata": {},
   "source": [
    "### String Functions"
   ]
  },
  {
   "cell_type": "code",
   "execution_count": 44,
   "id": "ea00ef0d",
   "metadata": {
    "scrolled": true
   },
   "outputs": [
    {
     "data": {
      "text/plain": [
       "15"
      ]
     },
     "execution_count": 44,
     "metadata": {},
     "output_type": "execute_result"
    }
   ],
   "source": [
    "len(s)"
   ]
  },
  {
   "cell_type": "code",
   "execution_count": 45,
   "id": "d74dc167",
   "metadata": {
    "scrolled": true
   },
   "outputs": [
    {
     "data": {
      "text/plain": [
       "'my name is abhi'"
      ]
     },
     "execution_count": 45,
     "metadata": {},
     "output_type": "execute_result"
    }
   ],
   "source": [
    "s.lower()"
   ]
  },
  {
   "cell_type": "code",
   "execution_count": 46,
   "id": "d60af9cd",
   "metadata": {},
   "outputs": [
    {
     "data": {
      "text/plain": [
       "'MY NAME IS ABHI'"
      ]
     },
     "execution_count": 46,
     "metadata": {},
     "output_type": "execute_result"
    }
   ],
   "source": [
    "s.upper()"
   ]
  },
  {
   "cell_type": "code",
   "execution_count": 47,
   "id": "b9dff7b8",
   "metadata": {},
   "outputs": [
    {
     "data": {
      "text/plain": [
       "'my name es abhe'"
      ]
     },
     "execution_count": 47,
     "metadata": {},
     "output_type": "execute_result"
    }
   ],
   "source": [
    "s.replace('i','e')"
   ]
  },
  {
   "cell_type": "code",
   "execution_count": 48,
   "id": "b05ed624",
   "metadata": {},
   "outputs": [
    {
     "data": {
      "text/plain": [
       "'my name is abhishek'"
      ]
     },
     "execution_count": 48,
     "metadata": {},
     "output_type": "execute_result"
    }
   ],
   "source": [
    "s.replace('abhi','abhishek')"
   ]
  },
  {
   "cell_type": "code",
   "execution_count": 49,
   "id": "8f5fc0b9",
   "metadata": {},
   "outputs": [
    {
     "data": {
      "text/plain": [
       "2"
      ]
     },
     "execution_count": 49,
     "metadata": {},
     "output_type": "execute_result"
    }
   ],
   "source": [
    "s.count('i')"
   ]
  },
  {
   "cell_type": "markdown",
   "id": "42e9936c",
   "metadata": {},
   "source": [
    "# Data-Structures in Python\n"
   ]
  },
  {
   "cell_type": "markdown",
   "id": "cf13b520",
   "metadata": {},
   "source": [
    "## Tuple in Python\n",
    "Tuple is an ordered collection of elements enlosed within(). Tuple are immutable."
   ]
  },
  {
   "cell_type": "code",
   "execution_count": 50,
   "id": "80274d70",
   "metadata": {},
   "outputs": [
    {
     "name": "stdout",
     "output_type": "stream",
     "text": [
      "<class 'tuple'>\n"
     ]
    }
   ],
   "source": [
    "t1=(1,True,2.45,5-7j)\n",
    "print(type(t1))"
   ]
  },
  {
   "cell_type": "markdown",
   "id": "070f1da1",
   "metadata": {},
   "source": [
    "### Extracting Individual Elements"
   ]
  },
  {
   "cell_type": "code",
   "execution_count": 51,
   "id": "70d12def",
   "metadata": {},
   "outputs": [
    {
     "name": "stdout",
     "output_type": "stream",
     "text": [
      "(1, True, 2.45, (5-7j))\n"
     ]
    }
   ],
   "source": [
    "print(t1)"
   ]
  },
  {
   "cell_type": "code",
   "execution_count": 52,
   "id": "aeaf9880",
   "metadata": {},
   "outputs": [
    {
     "data": {
      "text/plain": [
       "1"
      ]
     },
     "execution_count": 52,
     "metadata": {},
     "output_type": "execute_result"
    }
   ],
   "source": [
    "t1[0]"
   ]
  },
  {
   "cell_type": "code",
   "execution_count": 53,
   "id": "753f27b8",
   "metadata": {},
   "outputs": [
    {
     "data": {
      "text/plain": [
       "(5-7j)"
      ]
     },
     "execution_count": 53,
     "metadata": {},
     "output_type": "execute_result"
    }
   ],
   "source": [
    "t1[-1]"
   ]
  },
  {
   "cell_type": "code",
   "execution_count": 54,
   "id": "6207fc62",
   "metadata": {},
   "outputs": [
    {
     "data": {
      "text/plain": [
       "(True, 2.45, (5-7j))"
      ]
     },
     "execution_count": 54,
     "metadata": {},
     "output_type": "execute_result"
    }
   ],
   "source": [
    "t1[1:4]"
   ]
  },
  {
   "cell_type": "markdown",
   "id": "2008eff4",
   "metadata": {},
   "source": [
    "### Tuple Basic Operators"
   ]
  },
  {
   "cell_type": "code",
   "execution_count": 55,
   "id": "04554dc0",
   "metadata": {},
   "outputs": [],
   "source": [
    "t1=(1,3,2)\n",
    "t2=(5,7,6)"
   ]
  },
  {
   "cell_type": "code",
   "execution_count": 56,
   "id": "1b5a6dd1",
   "metadata": {},
   "outputs": [
    {
     "name": "stdout",
     "output_type": "stream",
     "text": [
      "(1, 3, 2) (5, 7, 6)\n"
     ]
    }
   ],
   "source": [
    "print(t1,t2)"
   ]
  },
  {
   "cell_type": "code",
   "execution_count": 57,
   "id": "5738a588",
   "metadata": {},
   "outputs": [
    {
     "name": "stdout",
     "output_type": "stream",
     "text": [
      "(1, 3, 2, 5, 7, 6)\n"
     ]
    }
   ],
   "source": [
    "print(t1+t2)"
   ]
  },
  {
   "cell_type": "code",
   "execution_count": 58,
   "id": "c76ff593",
   "metadata": {},
   "outputs": [
    {
     "name": "stdout",
     "output_type": "stream",
     "text": [
      "(1, 3, 2, 1, 3, 2, 1, 3, 2, 1, 3, 2, 1, 3, 2, 5, 7, 6)\n"
     ]
    }
   ],
   "source": [
    "print(t1*5+t2)"
   ]
  },
  {
   "cell_type": "markdown",
   "id": "86993a26",
   "metadata": {},
   "source": [
    "### Tuple Functions"
   ]
  },
  {
   "cell_type": "code",
   "execution_count": 59,
   "id": "3756e802",
   "metadata": {},
   "outputs": [
    {
     "name": "stdout",
     "output_type": "stream",
     "text": [
      "(5, 7, 6)\n"
     ]
    }
   ],
   "source": [
    "print(t2)"
   ]
  },
  {
   "cell_type": "code",
   "execution_count": 60,
   "id": "6ed31509",
   "metadata": {},
   "outputs": [
    {
     "name": "stdout",
     "output_type": "stream",
     "text": [
      "5\n"
     ]
    }
   ],
   "source": [
    "print(min(t2))"
   ]
  },
  {
   "cell_type": "code",
   "execution_count": 61,
   "id": "63fc79ea",
   "metadata": {},
   "outputs": [
    {
     "name": "stdout",
     "output_type": "stream",
     "text": [
      "3\n"
     ]
    }
   ],
   "source": [
    "print(max(t1))"
   ]
  },
  {
   "cell_type": "markdown",
   "id": "f2cee640",
   "metadata": {},
   "source": [
    "# List in Python\n",
    "List is an ordered collection of elements enclosed within[]. Lists are mutable.\n"
   ]
  },
  {
   "cell_type": "code",
   "execution_count": 62,
   "id": "a11f1943",
   "metadata": {},
   "outputs": [
    {
     "name": "stdout",
     "output_type": "stream",
     "text": [
      "<class 'list'>\n"
     ]
    }
   ],
   "source": [
    "l1=[1,True,3.24,'a']\n",
    "print(type(l1))"
   ]
  },
  {
   "cell_type": "markdown",
   "id": "67b2b5f0",
   "metadata": {},
   "source": [
    "### Extracting Individual Elements "
   ]
  },
  {
   "cell_type": "code",
   "execution_count": 63,
   "id": "39948c6e",
   "metadata": {},
   "outputs": [
    {
     "name": "stdout",
     "output_type": "stream",
     "text": [
      "[1, True, 3.24, 'a']\n"
     ]
    }
   ],
   "source": [
    "print(l1)"
   ]
  },
  {
   "cell_type": "code",
   "execution_count": 64,
   "id": "980ab88b",
   "metadata": {},
   "outputs": [
    {
     "data": {
      "text/plain": [
       "1"
      ]
     },
     "execution_count": 64,
     "metadata": {},
     "output_type": "execute_result"
    }
   ],
   "source": [
    "l1[0]"
   ]
  },
  {
   "cell_type": "code",
   "execution_count": 65,
   "id": "3b64875b",
   "metadata": {},
   "outputs": [
    {
     "data": {
      "text/plain": [
       "True"
      ]
     },
     "execution_count": 65,
     "metadata": {},
     "output_type": "execute_result"
    }
   ],
   "source": [
    "l1[1]"
   ]
  },
  {
   "cell_type": "code",
   "execution_count": 66,
   "id": "8f79d631",
   "metadata": {
    "scrolled": true
   },
   "outputs": [
    {
     "data": {
      "text/plain": [
       "'a'"
      ]
     },
     "execution_count": 66,
     "metadata": {},
     "output_type": "execute_result"
    }
   ],
   "source": [
    "l1[-1]"
   ]
  },
  {
   "cell_type": "markdown",
   "id": "865a0d9a",
   "metadata": {},
   "source": [
    "### Modifying a list"
   ]
  },
  {
   "cell_type": "code",
   "execution_count": 67,
   "id": "5b0d92a6",
   "metadata": {},
   "outputs": [
    {
     "name": "stdout",
     "output_type": "stream",
     "text": [
      "[1, True, 3.24, 'a']\n"
     ]
    }
   ],
   "source": [
    "print(l1)"
   ]
  },
  {
   "cell_type": "code",
   "execution_count": 68,
   "id": "d2e1d2bc",
   "metadata": {},
   "outputs": [
    {
     "name": "stdout",
     "output_type": "stream",
     "text": [
      "[100, True, 3.24, 'a']\n"
     ]
    }
   ],
   "source": [
    "l1[0]=100\n",
    "print(l1)"
   ]
  },
  {
   "cell_type": "code",
   "execution_count": 69,
   "id": "9c7322e5",
   "metadata": {},
   "outputs": [
    {
     "name": "stdout",
     "output_type": "stream",
     "text": [
      "[100, True, 3.24, 'a', -58.12]\n"
     ]
    }
   ],
   "source": [
    "l1.append(-58.12)\n",
    "print(l1)"
   ]
  },
  {
   "cell_type": "code",
   "execution_count": 70,
   "id": "2c06d1cc",
   "metadata": {},
   "outputs": [
    {
     "name": "stdout",
     "output_type": "stream",
     "text": [
      "['123', 34, 57, 76]\n"
     ]
    }
   ],
   "source": [
    "l2=['123',34,57,76]\n",
    "print(l2)"
   ]
  },
  {
   "cell_type": "code",
   "execution_count": 71,
   "id": "b88c9594",
   "metadata": {},
   "outputs": [
    {
     "name": "stdout",
     "output_type": "stream",
     "text": [
      "[76, 57, 34, '123']\n"
     ]
    }
   ],
   "source": [
    "l2.reverse()\n",
    "print(l2)"
   ]
  },
  {
   "cell_type": "code",
   "execution_count": 72,
   "id": "0c71395d",
   "metadata": {},
   "outputs": [
    {
     "name": "stdout",
     "output_type": "stream",
     "text": [
      "[76, 57, 34, 'hello', '123']\n"
     ]
    }
   ],
   "source": [
    "l2.insert(3,'hello')\n",
    "print(l2)"
   ]
  },
  {
   "cell_type": "code",
   "execution_count": 73,
   "id": "23f2b617",
   "metadata": {},
   "outputs": [],
   "source": [
    "l3=['a','e','g','b','c','d']"
   ]
  },
  {
   "cell_type": "code",
   "execution_count": 74,
   "id": "2db2f58a",
   "metadata": {},
   "outputs": [
    {
     "name": "stdout",
     "output_type": "stream",
     "text": [
      "['a', 'b', 'c', 'd', 'e', 'g']\n"
     ]
    }
   ],
   "source": [
    "l3.sort()\n",
    "print(l3)"
   ]
  },
  {
   "cell_type": "markdown",
   "id": "66cb43d3",
   "metadata": {},
   "source": [
    "### List basic Operations"
   ]
  },
  {
   "cell_type": "code",
   "execution_count": 75,
   "id": "254b59e6",
   "metadata": {},
   "outputs": [
    {
     "name": "stdout",
     "output_type": "stream",
     "text": [
      "[100, True, 3.24, 'a', -58.12] [76, 57, 34, 'hello', '123']\n"
     ]
    }
   ],
   "source": [
    "print(l1,l2)"
   ]
  },
  {
   "cell_type": "code",
   "execution_count": 76,
   "id": "ef411eab",
   "metadata": {},
   "outputs": [
    {
     "name": "stdout",
     "output_type": "stream",
     "text": [
      "[100, True, 3.24, 'a', -58.12, 76, 57, 34, 'hello', '123']\n"
     ]
    }
   ],
   "source": [
    "print(l1+l2)"
   ]
  },
  {
   "cell_type": "code",
   "execution_count": 77,
   "id": "fea80b5c",
   "metadata": {},
   "outputs": [
    {
     "name": "stdout",
     "output_type": "stream",
     "text": [
      "[76, 57, 34, 'hello', '123', 76, 57, 34, 'hello', '123', 76, 57, 34, 'hello', '123', 76, 57, 34, 'hello', '123', 76, 57, 34, 'hello', '123']\n"
     ]
    }
   ],
   "source": [
    "print(l2*5)"
   ]
  },
  {
   "cell_type": "code",
   "execution_count": 78,
   "id": "1e6dee5d",
   "metadata": {},
   "outputs": [
    {
     "name": "stdout",
     "output_type": "stream",
     "text": [
      "[76, 57, 34, 'hello', '123', 76, 57, 34, 'hello', '123', 76, 57, 34, 'hello', '123', 76, 57, 34, 'hello', '123', 76, 57, 34, 'hello', '123', 100, True, 3.24, 'a', -58.12]\n"
     ]
    }
   ],
   "source": [
    "print(l2*5+l1)"
   ]
  },
  {
   "cell_type": "markdown",
   "id": "59099858",
   "metadata": {},
   "source": [
    "## Dictionary in Python\n",
    "Dictionary is an unordered collection of key-value pairs enclosed with {}.Dictionary is mutable"
   ]
  },
  {
   "cell_type": "code",
   "execution_count": 79,
   "id": "0d81f326",
   "metadata": {},
   "outputs": [
    {
     "name": "stdout",
     "output_type": "stream",
     "text": [
      "<class 'dict'>\n"
     ]
    }
   ],
   "source": [
    "d1={'apple':220,'mango':540,'pineapple':340}\n",
    "print(type(d1))"
   ]
  },
  {
   "cell_type": "markdown",
   "id": "41527801",
   "metadata": {},
   "source": [
    "### Extracting Keys and values"
   ]
  },
  {
   "cell_type": "code",
   "execution_count": 80,
   "id": "e1d0676b",
   "metadata": {},
   "outputs": [
    {
     "name": "stdout",
     "output_type": "stream",
     "text": [
      "{'apple': 220, 'mango': 540, 'pineapple': 340}\n"
     ]
    }
   ],
   "source": [
    "print(d1)"
   ]
  },
  {
   "cell_type": "code",
   "execution_count": 81,
   "id": "9033aad8",
   "metadata": {},
   "outputs": [
    {
     "data": {
      "text/plain": [
       "dict_keys(['apple', 'mango', 'pineapple'])"
      ]
     },
     "execution_count": 81,
     "metadata": {},
     "output_type": "execute_result"
    }
   ],
   "source": [
    "d1.keys()"
   ]
  },
  {
   "cell_type": "code",
   "execution_count": 82,
   "id": "8744861c",
   "metadata": {},
   "outputs": [
    {
     "data": {
      "text/plain": [
       "dict_values([220, 540, 340])"
      ]
     },
     "execution_count": 82,
     "metadata": {},
     "output_type": "execute_result"
    }
   ],
   "source": [
    "d1.values()"
   ]
  },
  {
   "cell_type": "markdown",
   "id": "93460bdb",
   "metadata": {},
   "source": [
    "### Modifying a Dictionary"
   ]
  },
  {
   "cell_type": "code",
   "execution_count": 83,
   "id": "ddeb2782",
   "metadata": {},
   "outputs": [
    {
     "name": "stdout",
     "output_type": "stream",
     "text": [
      "{'apple': 220, 'mango': 540, 'pineapple': 340}\n"
     ]
    }
   ],
   "source": [
    "print(d1)"
   ]
  },
  {
   "cell_type": "code",
   "execution_count": 84,
   "id": "ed7a6184",
   "metadata": {},
   "outputs": [
    {
     "name": "stdout",
     "output_type": "stream",
     "text": [
      "{'apple': 220, 'mango': 540, 'pineapple': 340, 'orange': 510}\n"
     ]
    }
   ],
   "source": [
    "d1['orange']=510\n",
    "print(d1)"
   ]
  },
  {
   "cell_type": "markdown",
   "id": "15a8ea3f",
   "metadata": {},
   "source": [
    "### Dictionary Functions"
   ]
  },
  {
   "cell_type": "code",
   "execution_count": 85,
   "id": "350fcd60",
   "metadata": {},
   "outputs": [
    {
     "name": "stdout",
     "output_type": "stream",
     "text": [
      "{'apple': 220, 'mango': 540, 'pineapple': 340, 'orange': 510}\n"
     ]
    }
   ],
   "source": [
    "print(d1)"
   ]
  },
  {
   "cell_type": "code",
   "execution_count": 86,
   "id": "61b0af18",
   "metadata": {},
   "outputs": [
    {
     "name": "stdout",
     "output_type": "stream",
     "text": [
      "{'watermelon': 500, 'gauava': 200}\n"
     ]
    }
   ],
   "source": [
    "d2={'watermelon':500,'gauava':200}\n",
    "print(d2)"
   ]
  },
  {
   "cell_type": "code",
   "execution_count": 87,
   "id": "2a26e70f",
   "metadata": {},
   "outputs": [
    {
     "name": "stdout",
     "output_type": "stream",
     "text": [
      "{'apple': 220, 'mango': 540, 'pineapple': 340, 'orange': 510, 'watermelon': 500, 'gauava': 200}\n"
     ]
    }
   ],
   "source": [
    "d1.update(d2)\n",
    "print(d1)"
   ]
  },
  {
   "cell_type": "code",
   "execution_count": 88,
   "id": "71fc93c3",
   "metadata": {},
   "outputs": [
    {
     "data": {
      "text/plain": [
       "540"
      ]
     },
     "execution_count": 88,
     "metadata": {},
     "output_type": "execute_result"
    }
   ],
   "source": [
    "d1.pop('mango')"
   ]
  },
  {
   "cell_type": "code",
   "execution_count": 89,
   "id": "861aaaf0",
   "metadata": {},
   "outputs": [
    {
     "name": "stdout",
     "output_type": "stream",
     "text": [
      "{'apple': 220, 'pineapple': 340, 'orange': 510, 'watermelon': 500, 'gauava': 200}\n"
     ]
    }
   ],
   "source": [
    "print(d1)"
   ]
  },
  {
   "cell_type": "markdown",
   "id": "2a947576",
   "metadata": {},
   "source": [
    "## Set in Python\n",
    "Set is an unordered and unindexed collection of elements enclosed with{}.Duplicates are not allowed in set "
   ]
  },
  {
   "cell_type": "code",
   "execution_count": 90,
   "id": "3e2688fe",
   "metadata": {},
   "outputs": [
    {
     "name": "stdout",
     "output_type": "stream",
     "text": [
      "{1, 3.14, 'star'}\n"
     ]
    }
   ],
   "source": [
    "s1={1,3.14,'star'}\n",
    "print(s1)"
   ]
  },
  {
   "cell_type": "code",
   "execution_count": 91,
   "id": "ba3aec4e",
   "metadata": {},
   "outputs": [
    {
     "name": "stdout",
     "output_type": "stream",
     "text": [
      "{1, 2, 3.14, 'star'}\n"
     ]
    }
   ],
   "source": [
    "s1={1,3.14,'star',3.14,2,1}\n",
    "print(s1)"
   ]
  },
  {
   "cell_type": "markdown",
   "id": "426f386a",
   "metadata": {},
   "source": [
    "### Set Operations"
   ]
  },
  {
   "cell_type": "code",
   "execution_count": 92,
   "id": "76eae079",
   "metadata": {},
   "outputs": [],
   "source": [
    "s1={12.2,45,258,'ghb',5+5j}"
   ]
  },
  {
   "cell_type": "code",
   "execution_count": 93,
   "id": "5e85c2f0",
   "metadata": {},
   "outputs": [
    {
     "name": "stdout",
     "output_type": "stream",
     "text": [
      "{'ghb', False, 258, (5+5j), 12.2, 45}\n"
     ]
    }
   ],
   "source": [
    "s1.add(False)\n",
    "print(s1)"
   ]
  },
  {
   "cell_type": "code",
   "execution_count": 94,
   "id": "1be500bc",
   "metadata": {},
   "outputs": [
    {
     "name": "stdout",
     "output_type": "stream",
     "text": [
      "{'ghb', False, 258, 'hello', (5+5j), 12.2, 45, 254}\n"
     ]
    }
   ],
   "source": [
    "s1.update(['hello',254,])\n",
    "print(s1)"
   ]
  },
  {
   "cell_type": "code",
   "execution_count": 95,
   "id": "483be6d2",
   "metadata": {},
   "outputs": [
    {
     "name": "stdout",
     "output_type": "stream",
     "text": [
      "{'ghb', False, 258, 12.2, 'sparta', (5+5j), (5+6j), 'hello', 45, 254}\n"
     ]
    }
   ],
   "source": [
    "s1.update([5+6j,'sparta'])\n",
    "print(s1)"
   ]
  },
  {
   "cell_type": "code",
   "execution_count": 96,
   "id": "db51fd4b",
   "metadata": {},
   "outputs": [
    {
     "name": "stdout",
     "output_type": "stream",
     "text": [
      "{'ghb', False, 258, 12.2, 'sparta', (5+5j), (5+6j), 45, 254}\n"
     ]
    }
   ],
   "source": [
    "s1.remove('hello')\n",
    "print(s1)"
   ]
  },
  {
   "cell_type": "code",
   "execution_count": 97,
   "id": "752af11d",
   "metadata": {},
   "outputs": [
    {
     "name": "stdout",
     "output_type": "stream",
     "text": [
      "{'ghb', 258, 12.2, 'sparta', (5+5j), (5+6j), 45, 254}\n"
     ]
    }
   ],
   "source": [
    "s1.remove(False)\n",
    "print(s1)"
   ]
  },
  {
   "cell_type": "code",
   "execution_count": 98,
   "id": "1549e362",
   "metadata": {},
   "outputs": [
    {
     "name": "stdout",
     "output_type": "stream",
     "text": [
      "{'ghb', 258, 12.2, (5+5j), (5+6j), 45, 254}\n"
     ]
    }
   ],
   "source": [
    "s1.remove('sparta')\n",
    "print(s1)"
   ]
  },
  {
   "cell_type": "markdown",
   "id": "0aea1ebc",
   "metadata": {},
   "source": [
    "### Set Functions"
   ]
  },
  {
   "cell_type": "code",
   "execution_count": 99,
   "id": "ad65a2c5",
   "metadata": {},
   "outputs": [],
   "source": [
    "s1={1,2,3,4,5}\n",
    "s2={6,7,8,9,0}"
   ]
  },
  {
   "cell_type": "code",
   "execution_count": 100,
   "id": "03ab2362",
   "metadata": {},
   "outputs": [
    {
     "data": {
      "text/plain": [
       "{0, 1, 2, 3, 4, 5, 6, 7, 8, 9}"
      ]
     },
     "execution_count": 100,
     "metadata": {},
     "output_type": "execute_result"
    }
   ],
   "source": [
    "s1.union(s2)"
   ]
  },
  {
   "cell_type": "code",
   "execution_count": 101,
   "id": "600c7fb1",
   "metadata": {},
   "outputs": [],
   "source": [
    "s3={3,4,5,6,7,8,9}"
   ]
  },
  {
   "cell_type": "code",
   "execution_count": 102,
   "id": "09cc2561",
   "metadata": {},
   "outputs": [
    {
     "data": {
      "text/plain": [
       "{3, 4, 5}"
      ]
     },
     "execution_count": 102,
     "metadata": {},
     "output_type": "execute_result"
    }
   ],
   "source": [
    "s1.intersection(s3)"
   ]
  },
  {
   "cell_type": "code",
   "execution_count": 103,
   "id": "7684475d",
   "metadata": {},
   "outputs": [
    {
     "data": {
      "text/plain": [
       "{6, 7, 8, 9}"
      ]
     },
     "execution_count": 103,
     "metadata": {},
     "output_type": "execute_result"
    }
   ],
   "source": [
    "s2.intersection(s3)"
   ]
  },
  {
   "cell_type": "code",
   "execution_count": 104,
   "id": "1d5abe09",
   "metadata": {},
   "outputs": [
    {
     "data": {
      "text/plain": [
       "set()"
      ]
     },
     "execution_count": 104,
     "metadata": {},
     "output_type": "execute_result"
    }
   ],
   "source": [
    "s1.intersection(s2)"
   ]
  },
  {
   "cell_type": "markdown",
   "id": "e754538a",
   "metadata": {},
   "source": [
    "# If Statement\n",
    "Example:- 1. If it's raining:Sit inside, else Go out and play cricket"
   ]
  },
  {
   "cell_type": "markdown",
   "id": "54da5e1a",
   "metadata": {},
   "source": [
    "2.If Marks>70: Get Ice-cream, else Give practice test"
   ]
  },
  {
   "cell_type": "markdown",
   "id": "d8b28fed",
   "metadata": {},
   "source": [
    "if....else Pseudo Code"
   ]
  },
  {
   "cell_type": "markdown",
   "id": "4e2bfc24",
   "metadata": {},
   "source": [
    "*if(condition){statements to be executed....}"
   ]
  },
  {
   "cell_type": "markdown",
   "id": "0610d797",
   "metadata": {},
   "source": [
    "*else{Statement to be executed....}"
   ]
  },
  {
   "cell_type": "code",
   "execution_count": 105,
   "id": "53d2bc6a",
   "metadata": {},
   "outputs": [],
   "source": [
    "a=21\n",
    "b=23"
   ]
  },
  {
   "cell_type": "code",
   "execution_count": 106,
   "id": "7099731c",
   "metadata": {},
   "outputs": [
    {
     "name": "stdout",
     "output_type": "stream",
     "text": [
      "A is greater than B\n"
     ]
    }
   ],
   "source": [
    "if a<b:\n",
    "    print(\"A is greater than B\")"
   ]
  },
  {
   "cell_type": "code",
   "execution_count": 107,
   "id": "b6534fe7",
   "metadata": {},
   "outputs": [
    {
     "name": "stdout",
     "output_type": "stream",
     "text": [
      "B is greater than A\n"
     ]
    }
   ],
   "source": [
    "if b>a:\n",
    "    print(\"B is greater than A\")   \n",
    "else:\n",
    "    print(\"A is greater than B\")"
   ]
  },
  {
   "cell_type": "code",
   "execution_count": 108,
   "id": "a3f8c6ab",
   "metadata": {},
   "outputs": [],
   "source": [
    "a=25\n",
    "b=36\n",
    "c=54"
   ]
  },
  {
   "cell_type": "code",
   "execution_count": 109,
   "id": "8792b3be",
   "metadata": {},
   "outputs": [
    {
     "name": "stdout",
     "output_type": "stream",
     "text": [
      "C is the greatest\n"
     ]
    }
   ],
   "source": [
    "if (a>b) & (a>c):\n",
    "    print(\"A is the greatest\")\n",
    "elif(b>a) & (b>c):\n",
    "    print(\"B is the greatest\")\n",
    "else:\n",
    "    print(\"C is the greatest\")"
   ]
  },
  {
   "cell_type": "markdown",
   "id": "cbe52dee",
   "metadata": {},
   "source": [
    "### If with tulple"
   ]
  },
  {
   "cell_type": "code",
   "execution_count": 110,
   "id": "d7282665",
   "metadata": {},
   "outputs": [],
   "source": [
    "tup1=('a','b','c')"
   ]
  },
  {
   "cell_type": "code",
   "execution_count": 111,
   "id": "928b4cd6",
   "metadata": {
    "scrolled": true
   },
   "outputs": [
    {
     "name": "stdout",
     "output_type": "stream",
     "text": [
      "value a is present\n"
     ]
    }
   ],
   "source": [
    "if 'a' in tup1:\n",
    "    print(\"value a is present\")\n",
    "else:\n",
    "    print(\"value a is not present\")"
   ]
  },
  {
   "cell_type": "markdown",
   "id": "4297ad8d",
   "metadata": {},
   "source": [
    "### If with list"
   ]
  },
  {
   "cell_type": "code",
   "execution_count": 112,
   "id": "9fb3fd89",
   "metadata": {},
   "outputs": [],
   "source": [
    "l1= ['a','b','c']"
   ]
  },
  {
   "cell_type": "code",
   "execution_count": 113,
   "id": "7fd896c4",
   "metadata": {},
   "outputs": [
    {
     "name": "stdout",
     "output_type": "stream",
     "text": [
      "['a', 'z', 'c']\n"
     ]
    }
   ],
   "source": [
    "if l1[1]=='b':\n",
    "    l1[1]='z'\n",
    "    \n",
    "print(l1)"
   ]
  },
  {
   "cell_type": "markdown",
   "id": "68e4a4c6",
   "metadata": {},
   "source": [
    "### If with dictionary"
   ]
  },
  {
   "cell_type": "code",
   "execution_count": 114,
   "id": "b2f11e7a",
   "metadata": {},
   "outputs": [
    {
     "name": "stdout",
     "output_type": "stream",
     "text": [
      "{'k1': 12, 'k2': 22, 'k3': 33}\n"
     ]
    }
   ],
   "source": [
    "d1={'k1':12,'k2':22,'k3':33}\n",
    "print(d1)"
   ]
  },
  {
   "cell_type": "code",
   "execution_count": 115,
   "id": "0a69c834",
   "metadata": {},
   "outputs": [
    {
     "name": "stdout",
     "output_type": "stream",
     "text": [
      "{'k1': 12, 'k2': 22, 'k3': 133}\n"
     ]
    }
   ],
   "source": [
    "if d1[\"k3\"]==33:\n",
    "    d1['k3']=d1[\"k3\"]+100\n",
    "print(d1)"
   ]
  },
  {
   "cell_type": "markdown",
   "id": "16a10bc4",
   "metadata": {},
   "source": [
    "# Range Function"
   ]
  },
  {
   "cell_type": "code",
   "execution_count": 159,
   "id": "31643b10",
   "metadata": {},
   "outputs": [
    {
     "name": "stdout",
     "output_type": "stream",
     "text": [
      "0\n",
      "1\n",
      "2\n",
      "3\n",
      "4\n"
     ]
    }
   ],
   "source": [
    "# with 1 argument\n",
    "range(5)\n",
    "for n in range(5):\n",
    "    print(n)"
   ]
  },
  {
   "cell_type": "code",
   "execution_count": 161,
   "id": "95ea8c0e",
   "metadata": {},
   "outputs": [
    {
     "name": "stdout",
     "output_type": "stream",
     "text": [
      "2\n",
      "3\n",
      "4\n",
      "5\n"
     ]
    }
   ],
   "source": [
    "# with 2 arguments\n",
    "for i in range(2,6):\n",
    "    print(i)"
   ]
  },
  {
   "cell_type": "code",
   "execution_count": 168,
   "id": "ee600413",
   "metadata": {},
   "outputs": [],
   "source": [
    "# With 3 arguments\n",
    "for m in range(1,20,-10):\n",
    "    print(m*2)"
   ]
  },
  {
   "cell_type": "markdown",
   "id": "b6f0647c",
   "metadata": {},
   "source": [
    "# Looping Statements\n",
    "Looping statement are used to repeat a task multile times."
   ]
  },
  {
   "cell_type": "markdown",
   "id": "8593ce2e",
   "metadata": {},
   "source": [
    "Example:-1.Keep filling this buckect with a mug of water while it is not full.\n",
    "2.Get your salary credited at the end of each month!"
   ]
  },
  {
   "cell_type": "markdown",
   "id": "bdc358ce",
   "metadata": {},
   "source": [
    "## While Loop"
   ]
  },
  {
   "cell_type": "code",
   "execution_count": 116,
   "id": "9247bd18",
   "metadata": {},
   "outputs": [
    {
     "name": "stdout",
     "output_type": "stream",
     "text": [
      "1\n",
      "2\n",
      "3\n",
      "4\n",
      "5\n",
      "6\n",
      "7\n",
      "8\n",
      "9\n",
      "10\n"
     ]
    }
   ],
   "source": [
    "i=1\n",
    "while i<=10:\n",
    "    print(i)\n",
    "    i=i+1"
   ]
  },
  {
   "cell_type": "code",
   "execution_count": 117,
   "id": "4a86ab1c",
   "metadata": {},
   "outputs": [
    {
     "name": "stdout",
     "output_type": "stream",
     "text": [
      "5 * i = 5\n",
      "5 * i = 10\n",
      "5 * i = 15\n",
      "5 * i = 20\n",
      "5 * i = 25\n",
      "5 * i = 30\n",
      "5 * i = 35\n",
      "5 * i = 40\n",
      "5 * i = 45\n",
      "5 * i = 50\n"
     ]
    }
   ],
   "source": [
    "i=1\n",
    "n=5\n",
    "while i<=10:\n",
    "    print(n,\"*\",\"i\",\"=\",n*i)\n",
    "    i= i+1"
   ]
  },
  {
   "cell_type": "markdown",
   "id": "cba1c358",
   "metadata": {},
   "source": [
    "\n",
    "\n",
    "\n",
    "\n",
    "\n",
    "\n",
    "\n",
    "\n",
    "\n",
    "\n",
    "\n",
    "### While with list"
   ]
  },
  {
   "cell_type": "code",
   "execution_count": 118,
   "id": "6cc317d7",
   "metadata": {},
   "outputs": [],
   "source": [
    "l1=[1,2,3,4,5,6]"
   ]
  },
  {
   "cell_type": "code",
   "execution_count": 119,
   "id": "8783c6df",
   "metadata": {},
   "outputs": [],
   "source": [
    "i=0"
   ]
  },
  {
   "cell_type": "code",
   "execution_count": 120,
   "id": "d0e80574",
   "metadata": {},
   "outputs": [
    {
     "name": "stdout",
     "output_type": "stream",
     "text": [
      "[101, 102, 103, 104, 105, 106]\n"
     ]
    }
   ],
   "source": [
    "while i<len(l1):\n",
    "    l1[i]=l1[i]+100\n",
    "    i=i+1\n",
    "    \n",
    "print(l1)"
   ]
  },
  {
   "cell_type": "markdown",
   "id": "8489d23b",
   "metadata": {},
   "source": [
    "\n",
    "\n",
    "\n",
    "\n",
    "\n",
    "## For Loop\n",
    "For Loop is used to ilerate ove a sequence(tuple,list,dictionary..).This is the syntax of loop"
   ]
  },
  {
   "cell_type": "code",
   "execution_count": 121,
   "id": "6c4d733c",
   "metadata": {},
   "outputs": [
    {
     "name": "stdout",
     "output_type": "stream",
     "text": [
      "[101, 102, 103, 104, 105, 106]\n",
      "[101, 102, 103, 104, 105, 106]\n",
      "[101, 102, 103, 104, 105, 106]\n",
      "[101, 102, 103, 104, 105, 106]\n",
      "[101, 102, 103, 104, 105, 106]\n",
      "[101, 102, 103, 104, 105, 106]\n"
     ]
    }
   ],
   "source": [
    "\n",
    "for i in l1:\n",
    "    print(l1)"
   ]
  },
  {
   "cell_type": "code",
   "execution_count": 122,
   "id": "f5b56748",
   "metadata": {},
   "outputs": [],
   "source": [
    "l2=['mango','apple','orange','pineapp','grape','banana']"
   ]
  },
  {
   "cell_type": "code",
   "execution_count": 123,
   "id": "8f60b9f1",
   "metadata": {},
   "outputs": [
    {
     "name": "stdout",
     "output_type": "stream",
     "text": [
      "['mango', 'apple', 'orange', 'pineapp', 'grape', 'banana']\n",
      "['mango', 'apple', 'orange', 'pineapp', 'grape', 'banana']\n",
      "['mango', 'apple', 'orange', 'pineapp', 'grape', 'banana']\n",
      "['mango', 'apple', 'orange', 'pineapp', 'grape', 'banana']\n",
      "['mango', 'apple', 'orange', 'pineapp', 'grape', 'banana']\n",
      "['mango', 'apple', 'orange', 'pineapp', 'grape', 'banana']\n"
     ]
    }
   ],
   "source": [
    "for j in l2:\n",
    "    print(l2)"
   ]
  },
  {
   "cell_type": "code",
   "execution_count": 124,
   "id": "7538fce2",
   "metadata": {},
   "outputs": [
    {
     "name": "stdout",
     "output_type": "stream",
     "text": [
      "101 mango\n",
      "101 apple\n",
      "101 orange\n",
      "101 pineapp\n",
      "101 grape\n",
      "101 banana\n",
      "102 mango\n",
      "102 apple\n",
      "102 orange\n",
      "102 pineapp\n",
      "102 grape\n",
      "102 banana\n",
      "103 mango\n",
      "103 apple\n",
      "103 orange\n",
      "103 pineapp\n",
      "103 grape\n",
      "103 banana\n",
      "104 mango\n",
      "104 apple\n",
      "104 orange\n",
      "104 pineapp\n",
      "104 grape\n",
      "104 banana\n",
      "105 mango\n",
      "105 apple\n",
      "105 orange\n",
      "105 pineapp\n",
      "105 grape\n",
      "105 banana\n",
      "106 mango\n",
      "106 apple\n",
      "106 orange\n",
      "106 pineapp\n",
      "106 grape\n",
      "106 banana\n"
     ]
    }
   ],
   "source": [
    "for i in l1:\n",
    "    for j in l2:\n",
    "        print(i,j)"
   ]
  },
  {
   "cell_type": "code",
   "execution_count": 125,
   "id": "51a5c6e0",
   "metadata": {},
   "outputs": [
    {
     "name": "stdout",
     "output_type": "stream",
     "text": [
      "['book', 'pen', 'pencil', 'eraser', 'sarpner']\n"
     ]
    }
   ],
   "source": [
    "l3=['book','pen','pencil','eraser','sarpner']\n",
    "print(l3)"
   ]
  },
  {
   "cell_type": "code",
   "execution_count": 126,
   "id": "2d6575a5",
   "metadata": {},
   "outputs": [
    {
     "name": "stdout",
     "output_type": "stream",
     "text": [
      "101 mango book\n",
      "101 mango pen\n",
      "101 mango pencil\n",
      "101 mango eraser\n",
      "101 mango sarpner\n",
      "101 apple book\n",
      "101 apple pen\n",
      "101 apple pencil\n",
      "101 apple eraser\n",
      "101 apple sarpner\n",
      "101 orange book\n",
      "101 orange pen\n",
      "101 orange pencil\n",
      "101 orange eraser\n",
      "101 orange sarpner\n",
      "101 pineapp book\n",
      "101 pineapp pen\n",
      "101 pineapp pencil\n",
      "101 pineapp eraser\n",
      "101 pineapp sarpner\n",
      "101 grape book\n",
      "101 grape pen\n",
      "101 grape pencil\n",
      "101 grape eraser\n",
      "101 grape sarpner\n",
      "101 banana book\n",
      "101 banana pen\n",
      "101 banana pencil\n",
      "101 banana eraser\n",
      "101 banana sarpner\n",
      "102 mango book\n",
      "102 mango pen\n",
      "102 mango pencil\n",
      "102 mango eraser\n",
      "102 mango sarpner\n",
      "102 apple book\n",
      "102 apple pen\n",
      "102 apple pencil\n",
      "102 apple eraser\n",
      "102 apple sarpner\n",
      "102 orange book\n",
      "102 orange pen\n",
      "102 orange pencil\n",
      "102 orange eraser\n",
      "102 orange sarpner\n",
      "102 pineapp book\n",
      "102 pineapp pen\n",
      "102 pineapp pencil\n",
      "102 pineapp eraser\n",
      "102 pineapp sarpner\n",
      "102 grape book\n",
      "102 grape pen\n",
      "102 grape pencil\n",
      "102 grape eraser\n",
      "102 grape sarpner\n",
      "102 banana book\n",
      "102 banana pen\n",
      "102 banana pencil\n",
      "102 banana eraser\n",
      "102 banana sarpner\n",
      "103 mango book\n",
      "103 mango pen\n",
      "103 mango pencil\n",
      "103 mango eraser\n",
      "103 mango sarpner\n",
      "103 apple book\n",
      "103 apple pen\n",
      "103 apple pencil\n",
      "103 apple eraser\n",
      "103 apple sarpner\n",
      "103 orange book\n",
      "103 orange pen\n",
      "103 orange pencil\n",
      "103 orange eraser\n",
      "103 orange sarpner\n",
      "103 pineapp book\n",
      "103 pineapp pen\n",
      "103 pineapp pencil\n",
      "103 pineapp eraser\n",
      "103 pineapp sarpner\n",
      "103 grape book\n",
      "103 grape pen\n",
      "103 grape pencil\n",
      "103 grape eraser\n",
      "103 grape sarpner\n",
      "103 banana book\n",
      "103 banana pen\n",
      "103 banana pencil\n",
      "103 banana eraser\n",
      "103 banana sarpner\n",
      "104 mango book\n",
      "104 mango pen\n",
      "104 mango pencil\n",
      "104 mango eraser\n",
      "104 mango sarpner\n",
      "104 apple book\n",
      "104 apple pen\n",
      "104 apple pencil\n",
      "104 apple eraser\n",
      "104 apple sarpner\n",
      "104 orange book\n",
      "104 orange pen\n",
      "104 orange pencil\n",
      "104 orange eraser\n",
      "104 orange sarpner\n",
      "104 pineapp book\n",
      "104 pineapp pen\n",
      "104 pineapp pencil\n",
      "104 pineapp eraser\n",
      "104 pineapp sarpner\n",
      "104 grape book\n",
      "104 grape pen\n",
      "104 grape pencil\n",
      "104 grape eraser\n",
      "104 grape sarpner\n",
      "104 banana book\n",
      "104 banana pen\n",
      "104 banana pencil\n",
      "104 banana eraser\n",
      "104 banana sarpner\n",
      "105 mango book\n",
      "105 mango pen\n",
      "105 mango pencil\n",
      "105 mango eraser\n",
      "105 mango sarpner\n",
      "105 apple book\n",
      "105 apple pen\n",
      "105 apple pencil\n",
      "105 apple eraser\n",
      "105 apple sarpner\n",
      "105 orange book\n",
      "105 orange pen\n",
      "105 orange pencil\n",
      "105 orange eraser\n",
      "105 orange sarpner\n",
      "105 pineapp book\n",
      "105 pineapp pen\n",
      "105 pineapp pencil\n",
      "105 pineapp eraser\n",
      "105 pineapp sarpner\n",
      "105 grape book\n",
      "105 grape pen\n",
      "105 grape pencil\n",
      "105 grape eraser\n",
      "105 grape sarpner\n",
      "105 banana book\n",
      "105 banana pen\n",
      "105 banana pencil\n",
      "105 banana eraser\n",
      "105 banana sarpner\n",
      "106 mango book\n",
      "106 mango pen\n",
      "106 mango pencil\n",
      "106 mango eraser\n",
      "106 mango sarpner\n",
      "106 apple book\n",
      "106 apple pen\n",
      "106 apple pencil\n",
      "106 apple eraser\n",
      "106 apple sarpner\n",
      "106 orange book\n",
      "106 orange pen\n",
      "106 orange pencil\n",
      "106 orange eraser\n",
      "106 orange sarpner\n",
      "106 pineapp book\n",
      "106 pineapp pen\n",
      "106 pineapp pencil\n",
      "106 pineapp eraser\n",
      "106 pineapp sarpner\n",
      "106 grape book\n",
      "106 grape pen\n",
      "106 grape pencil\n",
      "106 grape eraser\n",
      "106 grape sarpner\n",
      "106 banana book\n",
      "106 banana pen\n",
      "106 banana pencil\n",
      "106 banana eraser\n",
      "106 banana sarpner\n"
     ]
    }
   ],
   "source": [
    "for i in l1:\n",
    "    for j in l2:\n",
    "        for k in l3:\n",
    "            print(i,j,k)"
   ]
  },
  {
   "cell_type": "markdown",
   "id": "92a4599b",
   "metadata": {},
   "source": [
    "## Python Functions \n",
    "Function is a block of code which performs a specific task"
   ]
  },
  {
   "cell_type": "code",
   "execution_count": 127,
   "id": "be9d5b23",
   "metadata": {},
   "outputs": [],
   "source": [
    "def hello():\n",
    "    print('hello world')"
   ]
  },
  {
   "cell_type": "code",
   "execution_count": 128,
   "id": "c8eee781",
   "metadata": {},
   "outputs": [
    {
     "name": "stdout",
     "output_type": "stream",
     "text": [
      "hello world\n"
     ]
    }
   ],
   "source": [
    "hello()"
   ]
  },
  {
   "cell_type": "code",
   "execution_count": 129,
   "id": "07ab89c4",
   "metadata": {},
   "outputs": [],
   "source": [
    "def add_10(x):\n",
    "    return x + 10"
   ]
  },
  {
   "cell_type": "code",
   "execution_count": 130,
   "id": "2318a66d",
   "metadata": {},
   "outputs": [
    {
     "data": {
      "text/plain": [
       "15"
      ]
     },
     "execution_count": 130,
     "metadata": {},
     "output_type": "execute_result"
    }
   ],
   "source": [
    "add_10(5)"
   ]
  },
  {
   "cell_type": "code",
   "execution_count": 131,
   "id": "3be13c33",
   "metadata": {},
   "outputs": [
    {
     "data": {
      "text/plain": [
       "21"
      ]
     },
     "execution_count": 131,
     "metadata": {},
     "output_type": "execute_result"
    }
   ],
   "source": [
    "add_10(11)"
   ]
  },
  {
   "cell_type": "code",
   "execution_count": 132,
   "id": "8056ee4e",
   "metadata": {},
   "outputs": [],
   "source": [
    "def odd_even(x):\n",
    "    if x%2==0:\n",
    "        print(x,\"is an even number\")\n",
    "    else:\n",
    "        print(x,\"is an odd number\")"
   ]
  },
  {
   "cell_type": "code",
   "execution_count": 133,
   "id": "de7d37f9",
   "metadata": {},
   "outputs": [
    {
     "name": "stdout",
     "output_type": "stream",
     "text": [
      "10 is an even number\n"
     ]
    }
   ],
   "source": [
    "odd_even(10)"
   ]
  },
  {
   "cell_type": "code",
   "execution_count": 134,
   "id": "a0c5dc72",
   "metadata": {},
   "outputs": [
    {
     "name": "stdout",
     "output_type": "stream",
     "text": [
      "9 is an odd number\n"
     ]
    }
   ],
   "source": [
    "odd_even(9)"
   ]
  },
  {
   "cell_type": "code",
   "execution_count": 135,
   "id": "b64044e3",
   "metadata": {},
   "outputs": [],
   "source": [
    "g=lambda x:x*x"
   ]
  },
  {
   "cell_type": "code",
   "execution_count": 136,
   "id": "9aee8f89",
   "metadata": {},
   "outputs": [
    {
     "data": {
      "text/plain": [
       "25"
      ]
     },
     "execution_count": 136,
     "metadata": {},
     "output_type": "execute_result"
    }
   ],
   "source": [
    "g(5)"
   ]
  },
  {
   "cell_type": "code",
   "execution_count": 137,
   "id": "c22ba6b5",
   "metadata": {},
   "outputs": [
    {
     "data": {
      "text/plain": [
       "100"
      ]
     },
     "execution_count": 137,
     "metadata": {},
     "output_type": "execute_result"
    }
   ],
   "source": [
    "g(10)"
   ]
  },
  {
   "cell_type": "markdown",
   "id": "853702a5",
   "metadata": {},
   "source": [
    "### Lambda with filter"
   ]
  },
  {
   "cell_type": "code",
   "execution_count": 138,
   "id": "254bc812",
   "metadata": {},
   "outputs": [
    {
     "name": "stdout",
     "output_type": "stream",
     "text": [
      "[45, 65, 35, 85, 59, 45, 75, 43]\n"
     ]
    }
   ],
   "source": [
    "l1=[45,65,35,85,59,45,75,78,76,43]\n",
    "final_list1=list(filter(lambda x: (x%2!=0),l1))\n",
    "print(final_list1)"
   ]
  },
  {
   "cell_type": "code",
   "execution_count": 139,
   "id": "3fd05b27",
   "metadata": {},
   "outputs": [
    {
     "name": "stdout",
     "output_type": "stream",
     "text": [
      "[78, 76]\n"
     ]
    }
   ],
   "source": [
    "l1=[45,65,35,85,59,45,75,78,76,43]\n",
    "final_list2=list(filter(lambda x: (x%2==0),l1))\n",
    "print(final_list2)"
   ]
  },
  {
   "cell_type": "markdown",
   "id": "8d5f60ab",
   "metadata": {},
   "source": [
    "### Lambda with map"
   ]
  },
  {
   "cell_type": "code",
   "execution_count": 140,
   "id": "c17f8669",
   "metadata": {},
   "outputs": [
    {
     "name": "stdout",
     "output_type": "stream",
     "text": [
      "[2, 4, 6, 8, 10, 12, 14, 16, 18]\n"
     ]
    }
   ],
   "source": [
    "l1=[1,2,3,4,5,6,7,8,9]\n",
    "list_final_new=list(map(lambda x: x*2,l1))\n",
    "print(list_final_new)"
   ]
  },
  {
   "cell_type": "code",
   "execution_count": 141,
   "id": "a920288b",
   "metadata": {},
   "outputs": [
    {
     "name": "stdout",
     "output_type": "stream",
     "text": [
      "45\n"
     ]
    }
   ],
   "source": [
    "from functools import reduce\n",
    "sum=reduce(lambda x,y: x+y,l1)\n",
    "print(sum)"
   ]
  },
  {
   "cell_type": "markdown",
   "id": "faa554d8",
   "metadata": {},
   "source": [
    "# Python Object Oriented Programming \n",
    "You are surrounded with Objects!!\n",
    "## Classes\n",
    "Classes is a template/blue-print for real-world entities\n",
    "### Class in Python \n",
    "Class is a user-defined data-type \n",
    "## Objects\n",
    "Objects are specific instances of a class\n",
    "### Objects in Python\n",
    "Specific instances of Mobile data type\n",
    "Specific instances of integer data type\n",
    "#### Creating the first Class"
   ]
  },
  {
   "cell_type": "code",
   "execution_count": 142,
   "id": "31354ade",
   "metadata": {},
   "outputs": [],
   "source": [
    "class Phone:\n",
    "    def make_call(self):\n",
    "        print(\"I am making a call\")\n",
    "    def play_game(self):\n",
    "        print(\"I am playing a game\")"
   ]
  },
  {
   "cell_type": "code",
   "execution_count": 143,
   "id": "04c5f60f",
   "metadata": {},
   "outputs": [],
   "source": [
    "p1 = Phone()"
   ]
  },
  {
   "cell_type": "code",
   "execution_count": 144,
   "id": "75f2ac21",
   "metadata": {},
   "outputs": [
    {
     "name": "stdout",
     "output_type": "stream",
     "text": [
      "I am making a call\n"
     ]
    }
   ],
   "source": [
    "\n",
    "p1.make_call()"
   ]
  },
  {
   "cell_type": "code",
   "execution_count": 145,
   "id": "8b2b9d14",
   "metadata": {},
   "outputs": [
    {
     "name": "stdout",
     "output_type": "stream",
     "text": [
      "I am playing a game\n"
     ]
    }
   ],
   "source": [
    "p1.play_game()"
   ]
  },
  {
   "cell_type": "markdown",
   "id": "d7ffedac",
   "metadata": {},
   "source": [
    "#### Adding parameters to the class"
   ]
  },
  {
   "cell_type": "code",
   "execution_count": 146,
   "id": "9032fd54",
   "metadata": {},
   "outputs": [],
   "source": [
    "class Phone:\n",
    "    def set_color(self,color):\n",
    "        self.color=color\n",
    "    def set_cost(self,cost):\n",
    "        self.cost=cost\n",
    "    def show_color(self):\n",
    "        return self.color\n",
    "    def show_cost(self):\n",
    "        return self.cost\n",
    "    def make_call(self):\n",
    "        print(\"make a call\")\n",
    "    def play_game(self):\n",
    "        print(\"Play a game\")"
   ]
  },
  {
   "cell_type": "code",
   "execution_count": 147,
   "id": "6743eda5",
   "metadata": {},
   "outputs": [],
   "source": [
    "p2 = Phone()"
   ]
  },
  {
   "cell_type": "code",
   "execution_count": 148,
   "id": "9d3b2ba9",
   "metadata": {},
   "outputs": [],
   "source": [
    "p2.set_color(\"Red\")"
   ]
  },
  {
   "cell_type": "code",
   "execution_count": 149,
   "id": "c7c81580",
   "metadata": {},
   "outputs": [
    {
     "data": {
      "text/plain": [
       "'Red'"
      ]
     },
     "execution_count": 149,
     "metadata": {},
     "output_type": "execute_result"
    }
   ],
   "source": [
    "p2.show_color()"
   ]
  },
  {
   "cell_type": "code",
   "execution_count": 150,
   "id": "a54a4396",
   "metadata": {},
   "outputs": [],
   "source": [
    "p2.set_cost(5000)"
   ]
  },
  {
   "cell_type": "code",
   "execution_count": 151,
   "id": "7776ac45",
   "metadata": {},
   "outputs": [
    {
     "data": {
      "text/plain": [
       "5000"
      ]
     },
     "execution_count": 151,
     "metadata": {},
     "output_type": "execute_result"
    }
   ],
   "source": [
    "p2.show_cost()"
   ]
  },
  {
   "cell_type": "code",
   "execution_count": 152,
   "id": "114e2d76",
   "metadata": {},
   "outputs": [
    {
     "name": "stdout",
     "output_type": "stream",
     "text": [
      "make a call\n"
     ]
    }
   ],
   "source": [
    "p2.make_call()"
   ]
  },
  {
   "cell_type": "code",
   "execution_count": 153,
   "id": "a217539c",
   "metadata": {},
   "outputs": [
    {
     "name": "stdout",
     "output_type": "stream",
     "text": [
      "Play a game\n"
     ]
    }
   ],
   "source": [
    "p2.play_game()"
   ]
  },
  {
   "cell_type": "markdown",
   "id": "436f5c34",
   "metadata": {},
   "source": [
    "#### Creating a class with Constructor"
   ]
  },
  {
   "cell_type": "code",
   "execution_count": 154,
   "id": "1584a5f6",
   "metadata": {},
   "outputs": [
    {
     "ename": "IndentationError",
     "evalue": "unexpected indent (2199635890.py, line 12)",
     "output_type": "error",
     "traceback": [
      "\u001b[1;36m  Cell \u001b[1;32mIn[154], line 12\u001b[1;36m\u001b[0m\n\u001b[1;33m    print(\"Address of employee is \",self.address)\u001b[0m\n\u001b[1;37m    ^\u001b[0m\n\u001b[1;31mIndentationError\u001b[0m\u001b[1;31m:\u001b[0m unexpected indent\n"
     ]
    }
   ],
   "source": [
    "class Employee:\n",
    "    def __init__(self,name,age,gender,salary,address):\n",
    "        self.name = name\n",
    "        self.age = age\n",
    "        self.gender = gender\n",
    "        self.salary = salary\n",
    "        self.address= address\n",
    "    def show_employee_details(self):\n",
    "        print(\"Name of employee is \",self.name)\n",
    "        print(\"Age of employee is \",self.age)\n",
    "-+++++++++++++++++++++++++++++++++++++++++++++++++++++++++++++++++++++++++++++++++++++++++++++++++++++++++++++++++++++++++++++++++++++++++++++++++++++++++++++++++++++++++++++++++++++++++++++++++++++++++++++++++++++++++++++++++++++++++++++++++++++++++++++++++++++++++++++++++++++++++++++++++++++++++++++++++++++++++++++++++++++++++++++++++++++++++++++++++++++++++++++++++++++++++++++++++++++++++++++++++++++++++++++++++++++++++++++++++++++++++++++++++++++++++++++++++++++++++++++++++++++++++++++++++++++++++++++++++++++++++++++++++++++++++++++++++++++++++++++++++++++++++++++++++++++++++++++++++++++++++++++++++++++++++++++++++++++++++++++++++++++++++++++++++++++++++++++++++++++++++++++++++++++++++++++++++++++++++++++++++++++++++++++++++++++++++++++++++++++++++++++++++++++++++++++++++++++++++++++++++++++++++++++++++++++++++++++++++++++++++++++++++++++++++++++++++++++++++++++++++++++++++++++++++++++++++++++++++++++++++++++++++++++++++++++++++++++++++++++++++++++++++++++++++++++++++++++++++++++++++++++++++++++++++++++++++++++++++++++++++++++++++++++++++++++++++++++++++++++++++++++++++++++++++++++++++++++++++++++++++++++++++++++++++++++++++++++++++++++++++++++++++++++++++++++++++++++++++++++++++++++++++++++++++++++++++++++++++++++++++++++++++++++++++++++++++++++++++++++++++++++++++++++++++++++++++++++++++++++++++++++++++++++++++++++++++++++++++++++++++++++++++++++++++++++++++++++++++++++++++++++++++++++++++++++++++++++++++++++++++++++++++++++++++++++++++++++++++++++++++++++++++++++++++++++++++++++++++++++++++++++++++++++++++++++++++++++++++++++++++++++++++++++++++++++++++++++++++++++++++++++++++++++++++++++++++++++++++++++++++++++++++++++++++++++++++++++++++++++++++++++++++++++++++++++++++++++++++++++++++++++++++++++++++++++++++++++++++++++++++++++++++++++++++++++++++++++++++++++++++++++++++++++++++++++++++++++++++++++++++++++++++++++++++++++++++++++++++++++++++++++++++++++++++++++++++++++++++++++++++++++++++++++++++++++++++++++++++++++++++++++++++++++++++++++++++++++++++++++++++++++++++++++++++++++++++++++++++++++++++++++++++++++++++++++++++++++++++++++++++++++++++++++++++++++++++++++++++++++++++++++++++++++++++++++++++++++++++++++++++++++++++++++++++++++++++++++++++++++++++++++++++++++++++++++++++++++++++++++++++++++++++++++++++++++++++++++++++++++++++++++++++++++++++++++++++++++++++++++++++++++++++++++++++++++++++++++++++++++++++++++++++++++++++++++++++++++++++++++++++++        print(\"Salary of employee is \",self.salary)\n",
    "        print(\"Address of employee is \",self.address)"
   ]
  },
  {
   "cell_type": "markdown",
   "id": "270515d6",
   "metadata": {},
   "source": [
    "#### Instantiating Object"
   ]
  },
  {
   "cell_type": "code",
   "execution_count": null,
   "id": "207cd3f1",
   "metadata": {},
   "outputs": [],
   "source": [
    "e1 = Employee('Ram',32,'Male',50000,\"Vasai-Virar\")"
   ]
  },
  {
   "cell_type": "code",
   "execution_count": null,
   "id": "214a0dd5",
   "metadata": {},
   "outputs": [],
   "source": [
    "e1.show_employee_details()"
   ]
  },
  {
   "cell_type": "markdown",
   "id": "8af211a6",
   "metadata": {},
   "source": [
    "### Inheritance in Python\n",
    "With inheritance one class can derive the properties of another class"
   ]
  },
  {
   "cell_type": "markdown",
   "id": "0ff5d04d",
   "metadata": {},
   "source": [
    "##### Inheritance Example:-"
   ]
  },
  {
   "cell_type": "code",
   "execution_count": null,
   "id": "3a913d0f",
   "metadata": {},
   "outputs": [],
   "source": [
    "class Vehicle:\n",
    "    def __init__(self,mileage,cost):\n",
    "        self.mileage = mileage\n",
    "        self.cost = cost\n",
    "    def show_vehicle_details(self):\n",
    "        print(\"Mileage of vehicle is \",self.mileage)\n",
    "        print(\"Cost of vehicle is \",self.cost)\n",
    "        print(\"I am a vehicle\")"
   ]
  },
  {
   "cell_type": "code",
   "execution_count": null,
   "id": "0f8b2472",
   "metadata": {},
   "outputs": [],
   "source": [
    "v1 = Vehicle(300,500000)"
   ]
  },
  {
   "cell_type": "code",
   "execution_count": null,
   "id": "1974dd8a",
   "metadata": {},
   "outputs": [],
   "source": [
    "v1.show_vehicle_details()"
   ]
  },
  {
   "cell_type": "code",
   "execution_count": null,
   "id": "343f403c",
   "metadata": {},
   "outputs": [],
   "source": [
    "class Car(Vehicle):\n",
    "    def show_car_details(self):\n",
    "        print(\"I am a car\")"
   ]
  },
  {
   "cell_type": "code",
   "execution_count": null,
   "id": "6f069ba6",
   "metadata": {},
   "outputs": [],
   "source": [
    "c1=Car(600,98900)"
   ]
  },
  {
   "cell_type": "code",
   "execution_count": null,
   "id": "99710fa8",
   "metadata": {},
   "outputs": [],
   "source": [
    "c1.show_car_details()"
   ]
  },
  {
   "cell_type": "markdown",
   "id": "871a71d5",
   "metadata": {},
   "source": [
    "\n",
    "\n",
    "\n",
    "\n",
    "\n",
    "\n",
    "\n",
    "\n",
    "#### Over-riding init method"
   ]
  },
  {
   "cell_type": "code",
   "execution_count": null,
   "id": "071810ce",
   "metadata": {},
   "outputs": [],
   "source": [
    "class Car(Vehicle):\n",
    "    def __init__(self,mileage,cost,tyres,hp):\n",
    "        super().__init__(mileage,cost)\n",
    "        self.tyres=tyres\n",
    "        self.hp=hp\n",
    "        \n",
    "    def show_car_details(self):\n",
    "        print(\"Number of tyres is \",self.tyres)\n",
    "        print(\"Value of horse power is \",self.hp)\n",
    "        print(\"I am a car\")\n",
    "        "
   ]
  },
  {
   "cell_type": "code",
   "execution_count": null,
   "id": "83c7ef4a",
   "metadata": {},
   "outputs": [],
   "source": [
    "c1 = Car(600,1000000,6,699)"
   ]
  },
  {
   "cell_type": "code",
   "execution_count": null,
   "id": "37decc93",
   "metadata": {},
   "outputs": [],
   "source": [
    "c1.show_vehicle_details()"
   ]
  },
  {
   "cell_type": "code",
   "execution_count": null,
   "id": "44c74ee7",
   "metadata": {},
   "outputs": [],
   "source": [
    "c1.show_car_details()"
   ]
  },
  {
   "cell_type": "markdown",
   "id": "5ec8eb6d",
   "metadata": {},
   "source": [
    "### Type of Inheritance"
   ]
  },
  {
   "cell_type": "markdown",
   "id": "2b5e19e4",
   "metadata": {},
   "source": [
    "#### Multiple Inheritance in Python"
   ]
  },
  {
   "cell_type": "code",
   "execution_count": null,
   "id": "3bca004f",
   "metadata": {},
   "outputs": [],
   "source": [
    "#Parent class one\n",
    "class Parent1:\n",
    "    def assign_string_one(self,str1):\n",
    "        self.str1 = str1\n",
    "    def show_string_one(self):\n",
    "        return self.str1"
   ]
  },
  {
   "cell_type": "code",
   "execution_count": null,
   "id": "3c68ea9b",
   "metadata": {},
   "outputs": [],
   "source": [
    "#Parent class two\n",
    "class Parent2:\n",
    "    def assign_string_two(self,str2):\n",
    "        self.str2 = str2\n",
    "    def show_string_two(self):\n",
    "        return self.str2"
   ]
  },
  {
   "cell_type": "code",
   "execution_count": null,
   "id": "444fd5e0",
   "metadata": {},
   "outputs": [],
   "source": [
    "#Child class\n",
    "class Child(Parent1,Parent2):\n",
    "    def assign_string_three(self,str3):\n",
    "        self.str3 = str3\n",
    "    def show_string_three(self):\n",
    "        return self.str3"
   ]
  },
  {
   "cell_type": "code",
   "execution_count": null,
   "id": "77101e16",
   "metadata": {},
   "outputs": [],
   "source": [
    "my_child = Child()"
   ]
  },
  {
   "cell_type": "code",
   "execution_count": null,
   "id": "f2df2f0d",
   "metadata": {},
   "outputs": [],
   "source": [
    "my_child.assign_string_one(\"I am string of parent 1\")\n",
    "my_child.assign_string_two(\"I am string of parent 2\")\n",
    "my_child.assign_string_three(\"I am string of parent 3\")"
   ]
  },
  {
   "cell_type": "code",
   "execution_count": null,
   "id": "712bffad",
   "metadata": {},
   "outputs": [],
   "source": [
    "my_child.show_string_one()"
   ]
  },
  {
   "cell_type": "code",
   "execution_count": null,
   "id": "3a506798",
   "metadata": {},
   "outputs": [],
   "source": [
    "my_child.show_string_two()"
   ]
  },
  {
   "cell_type": "code",
   "execution_count": null,
   "id": "1d357643",
   "metadata": {},
   "outputs": [],
   "source": [
    "my_child.show_string_three()"
   ]
  },
  {
   "cell_type": "markdown",
   "id": "8ae398ba",
   "metadata": {},
   "source": [
    "#### Multi-Level Inheritance in Python:-"
   ]
  },
  {
   "cell_type": "code",
   "execution_count": null,
   "id": "65b2f63a",
   "metadata": {},
   "outputs": [],
   "source": [
    "class Parent:\n",
    "    def get_name(self,name):\n",
    "        self.name=name\n",
    "    def show_name(self):\n",
    "        return self.name"
   ]
  },
  {
   "cell_type": "code",
   "execution_count": null,
   "id": "50809352",
   "metadata": {},
   "outputs": [],
   "source": [
    "class Child(Parent):\n",
    "    def get_age(self,age):\n",
    "        self.age=age\n",
    "    def show_age(self):\n",
    "        return self.age"
   ]
  },
  {
   "cell_type": "code",
   "execution_count": null,
   "id": "f7cfb3ac",
   "metadata": {},
   "outputs": [],
   "source": [
    "class Grandchild(Child):\n",
    "    def get_gender(self,gender):\n",
    "        self.gender=gender\n",
    "    def show_gender(self):\n",
    "        return self.gender"
   ]
  },
  {
   "cell_type": "code",
   "execution_count": null,
   "id": "caf8af14",
   "metadata": {},
   "outputs": [],
   "source": [
    "g1= Grandchild()"
   ]
  },
  {
   "cell_type": "code",
   "execution_count": null,
   "id": "e4fb4223",
   "metadata": {},
   "outputs": [],
   "source": [
    "g1.get_name(\"avnish\")\n",
    "g1.get_age(21)\n",
    "g1.get_gender('male')"
   ]
  },
  {
   "cell_type": "code",
   "execution_count": null,
   "id": "352b2472",
   "metadata": {},
   "outputs": [],
   "source": [
    "g1.show_name()"
   ]
  },
  {
   "cell_type": "code",
   "execution_count": null,
   "id": "2d47d585",
   "metadata": {},
   "outputs": [],
   "source": [
    "g1.show_age()"
   ]
  },
  {
   "cell_type": "code",
   "execution_count": null,
   "id": "3bce1f25",
   "metadata": {},
   "outputs": [],
   "source": [
    "g1.show_gender()"
   ]
  },
  {
   "cell_type": "markdown",
   "id": "4f87d620",
   "metadata": {},
   "source": [
    "# Libraries in Python:-\n",
    "Python library is a collection of functions and methods that allows you to perform many actions without writing your code\n",
    "## 1:Python Numpy\n",
    "Numpy stands for Numerical python and is the core library for numeric and scientific computing.\n",
    "It consists of multi-dimensional array objects and a collection of routines for processing those arrays."
   ]
  },
  {
   "cell_type": "markdown",
   "id": "ea8b1a96",
   "metadata": {},
   "source": [
    "##### Creating Numpy Array"
   ]
  },
  {
   "cell_type": "code",
   "execution_count": null,
   "id": "4e562a18",
   "metadata": {},
   "outputs": [],
   "source": [
    "# Single-dimensional Array"
   ]
  },
  {
   "cell_type": "code",
   "execution_count": null,
   "id": "1c7a6315",
   "metadata": {},
   "outputs": [],
   "source": [
    "import numpy as np"
   ]
  },
  {
   "cell_type": "code",
   "execution_count": null,
   "id": "cbcbfc6e",
   "metadata": {},
   "outputs": [],
   "source": [
    "l1=[1,2,3,4]"
   ]
  },
  {
   "cell_type": "code",
   "execution_count": null,
   "id": "b4b24d31",
   "metadata": {},
   "outputs": [],
   "source": [
    "n1=np.array([l1])\n",
    "(n1)"
   ]
  },
  {
   "cell_type": "code",
   "execution_count": null,
   "id": "cb386cd0",
   "metadata": {},
   "outputs": [],
   "source": [
    "type(n1)"
   ]
  },
  {
   "cell_type": "code",
   "execution_count": null,
   "id": "2541871b",
   "metadata": {},
   "outputs": [],
   "source": [
    "# Multi-dimensinal Array"
   ]
  },
  {
   "cell_type": "code",
   "execution_count": null,
   "id": "d30ab88a",
   "metadata": {},
   "outputs": [],
   "source": [
    "n2=np.array([[1,2,3,4],[5,6,7,8]])\n",
    "n2"
   ]
  },
  {
   "cell_type": "code",
   "execution_count": null,
   "id": "9a28dc38",
   "metadata": {},
   "outputs": [],
   "source": [
    "n3=np.array([[[1,2,3,4],[2,3,4,5]],[[4,5,6,7],[5,6,7,8]]])\n",
    "print(n3)\n",
    "print(type(n3))\n",
    "print(n3.ndim)"
   ]
  },
  {
   "cell_type": "code",
   "execution_count": null,
   "id": "b73c2169",
   "metadata": {},
   "outputs": [],
   "source": [
    "n1=np.array(23)\n",
    "n2=np.array([2,5,4,6])\n",
    "n3=np.array([[1,2,5,6],[4,5,6,8]])\n",
    "n4=np.array([[[1,2,3,4],[2,3,4,5]],[[3,4,5,6],[4,5,6,7]]])\n",
    "print(n1.ndim)\n",
    "print(n2.ndim)\n",
    "print(n3.ndim)\n",
    "print(n4.ndim)\n"
   ]
  },
  {
   "cell_type": "markdown",
   "id": "51d863ef",
   "metadata": {},
   "source": [
    "#### Initializing Numpy Array"
   ]
  },
  {
   "cell_type": "code",
   "execution_count": null,
   "id": "882cb0b5",
   "metadata": {},
   "outputs": [],
   "source": [
    "import numpy as np"
   ]
  },
  {
   "cell_type": "code",
   "execution_count": null,
   "id": "f1d04450",
   "metadata": {},
   "outputs": [],
   "source": [
    "#Initializing Numpy Array with zero"
   ]
  },
  {
   "cell_type": "code",
   "execution_count": null,
   "id": "54dd6573",
   "metadata": {},
   "outputs": [],
   "source": [
    "n3=np.zeros((3,5))\n",
    "print(n3)"
   ]
  },
  {
   "cell_type": "code",
   "execution_count": null,
   "id": "a154a43e",
   "metadata": {},
   "outputs": [],
   "source": [
    "#Initializing Numpy Array same number"
   ]
  },
  {
   "cell_type": "code",
   "execution_count": null,
   "id": "bd1ebfba",
   "metadata": {},
   "outputs": [],
   "source": [
    "n4= np.full((3,3),55)\n",
    "print(n4)"
   ]
  },
  {
   "cell_type": "code",
   "execution_count": null,
   "id": "e521e5d5",
   "metadata": {},
   "outputs": [],
   "source": [
    "#Initializing Numpy Array Within a Range"
   ]
  },
  {
   "cell_type": "code",
   "execution_count": null,
   "id": "072019da",
   "metadata": {},
   "outputs": [],
   "source": [
    "n4=np.arange(50,101)\n",
    "print(n4)"
   ]
  },
  {
   "cell_type": "code",
   "execution_count": null,
   "id": "12982a6e",
   "metadata": {},
   "outputs": [],
   "source": [
    "n5=np.arange(50,500,10)\n",
    "print(n5)"
   ]
  },
  {
   "cell_type": "code",
   "execution_count": null,
   "id": "3d1768bd",
   "metadata": {},
   "outputs": [],
   "source": [
    "#Initializing Numpy Array with randon numbers"
   ]
  },
  {
   "cell_type": "code",
   "execution_count": null,
   "id": "90a7ee93",
   "metadata": {},
   "outputs": [],
   "source": [
    "n6=np.random.randint(100,200,10)\n",
    "print(n6)"
   ]
  },
  {
   "cell_type": "markdown",
   "id": "a4ec0f75",
   "metadata": {},
   "source": [
    "## Numpy-Shape\n",
    "Checking the shape of Numpy arrays"
   ]
  },
  {
   "cell_type": "code",
   "execution_count": null,
   "id": "fe48cf6b",
   "metadata": {
    "scrolled": true
   },
   "outputs": [],
   "source": [
    "n2=np.array([[1,2,3,4,5],[5,6,7,8,9]])\n",
    "print(n2)\n",
    "print(n2.shape)\n",
    "print(type(n2))\n",
    "print(n2.ndim)"
   ]
  },
  {
   "cell_type": "code",
   "execution_count": null,
   "id": "27fac2d5",
   "metadata": {},
   "outputs": [],
   "source": [
    "n2.shape = (5,2)\n",
    "print(n2)\n",
    "print(type(n2))\n",
    "print(n2.ndim)"
   ]
  },
  {
   "cell_type": "code",
   "execution_count": null,
   "id": "3fa97e3a",
   "metadata": {},
   "outputs": [],
   "source": [
    "n2.shape = (10,1)\n",
    "print(n2)\n",
    "print(type(n2))\n",
    "print(n2.ndim)"
   ]
  },
  {
   "cell_type": "markdown",
   "id": "33827222",
   "metadata": {},
   "source": [
    "### Joining Numpy Arrays"
   ]
  },
  {
   "cell_type": "code",
   "execution_count": null,
   "id": "acffc071",
   "metadata": {},
   "outputs": [],
   "source": [
    "n1=np.array([1,2,3,4])\n",
    "n2=np.array([5,6,7,8])"
   ]
  },
  {
   "cell_type": "code",
   "execution_count": null,
   "id": "03ac8c43",
   "metadata": {},
   "outputs": [],
   "source": [
    "arr=np.concatenate((n1,n2))\n",
    "print(arr)"
   ]
  },
  {
   "cell_type": "code",
   "execution_count": null,
   "id": "bf49aa66",
   "metadata": {},
   "outputs": [],
   "source": [
    "np.vstack((n1,n2))"
   ]
  },
  {
   "cell_type": "code",
   "execution_count": null,
   "id": "38379afb",
   "metadata": {},
   "outputs": [],
   "source": [
    "np.hstack((n1,n2))"
   ]
  },
  {
   "cell_type": "code",
   "execution_count": null,
   "id": "f1352d82",
   "metadata": {},
   "outputs": [],
   "source": [
    "np.column_stack((n1,n2))"
   ]
  },
  {
   "cell_type": "code",
   "execution_count": null,
   "id": "630c2446",
   "metadata": {},
   "outputs": [],
   "source": [
    "np.intersect1d(n1,n2)"
   ]
  },
  {
   "cell_type": "code",
   "execution_count": null,
   "id": "a2368977",
   "metadata": {},
   "outputs": [],
   "source": [
    "np.setdiff1d(n1,n2)"
   ]
  },
  {
   "cell_type": "code",
   "execution_count": null,
   "id": "87ea9ecd",
   "metadata": {},
   "outputs": [],
   "source": [
    "np.setdiff1d(n2,n1)"
   ]
  },
  {
   "cell_type": "markdown",
   "id": "bb7f77b6",
   "metadata": {},
   "source": [
    "#### Splitting "
   ]
  },
  {
   "cell_type": "code",
   "execution_count": null,
   "id": "13459eda",
   "metadata": {},
   "outputs": [],
   "source": [
    "arr=np.array([1,2,3,4,5,6,7,8,9])\n",
    "new_arr=np.array_split(arr,5)\n",
    "print(new_arr)"
   ]
  },
  {
   "cell_type": "markdown",
   "id": "219ce9c3",
   "metadata": {},
   "source": [
    "## ravel & flatten\n",
    "converts multidimensional array into 1D Array"
   ]
  },
  {
   "cell_type": "code",
   "execution_count": null,
   "id": "5d116f86",
   "metadata": {},
   "outputs": [],
   "source": [
    "m=np.array([[[1,2,3,4],[3,4,5,6],[5,6,7,8]]])\n",
    "print(m)\n",
    "a=m.flatten()\n",
    "print(a)"
   ]
  },
  {
   "cell_type": "code",
   "execution_count": null,
   "id": "f5e40551",
   "metadata": {},
   "outputs": [],
   "source": [
    "n=np.array([[1,23,4,5],[53,34,34,34]])\n",
    "n.ravel()"
   ]
  },
  {
   "cell_type": "code",
   "execution_count": null,
   "id": "4fe6b5c3",
   "metadata": {},
   "outputs": [],
   "source": [
    "#Unique funtion\n",
    "b=np.unique(a)\n",
    "print(b)\n",
    "c=np.unique(a,return_index=True,return_counts=True)\n",
    "print(c)"
   ]
  },
  {
   "cell_type": "code",
   "execution_count": null,
   "id": "db94b4b5",
   "metadata": {},
   "outputs": [],
   "source": [
    "#Delete\n",
    "d=np.delete(a,[8])\n",
    "print(d)"
   ]
  },
  {
   "cell_type": "code",
   "execution_count": null,
   "id": "49b32472",
   "metadata": {},
   "outputs": [],
   "source": [
    "np.delete(n,1,axis=0)"
   ]
  },
  {
   "cell_type": "markdown",
   "id": "7dc9c52b",
   "metadata": {},
   "source": [
    "### Numpy Array Mathematics"
   ]
  },
  {
   "cell_type": "markdown",
   "id": "00da4f60",
   "metadata": {},
   "source": [
    "#### ADDITION OF NUMPY ARRAYS"
   ]
  },
  {
   "cell_type": "code",
   "execution_count": null,
   "id": "943ff369",
   "metadata": {},
   "outputs": [],
   "source": [
    "print(n1)\n",
    "print(n2)\n",
    "print(n1,n2)"
   ]
  },
  {
   "cell_type": "code",
   "execution_count": null,
   "id": "74bb90f9",
   "metadata": {},
   "outputs": [],
   "source": [
    "np.sum([n1,n2])"
   ]
  },
  {
   "cell_type": "code",
   "execution_count": null,
   "id": "5e0d7306",
   "metadata": {},
   "outputs": [],
   "source": [
    "np.sum([n1,n2],axis=0)"
   ]
  },
  {
   "cell_type": "code",
   "execution_count": null,
   "id": "89833a45",
   "metadata": {},
   "outputs": [],
   "source": [
    "np.sum([n1,n2],axis=1)"
   ]
  },
  {
   "cell_type": "code",
   "execution_count": null,
   "id": "617a7c12",
   "metadata": {},
   "outputs": [],
   "source": [
    "print(n1)\n",
    "print(n1+5)\n",
    "print(n1-2)\n",
    "print(n1*2)\n",
    "print(n1/2)"
   ]
  },
  {
   "cell_type": "code",
   "execution_count": null,
   "id": "66a50453",
   "metadata": {},
   "outputs": [],
   "source": [
    "print(n1+5,n2+8,n1-7,n2*2,n1*5)"
   ]
  },
  {
   "cell_type": "markdown",
   "id": "3e0a0ea1",
   "metadata": {},
   "source": [
    "### Numpy Math Functions "
   ]
  },
  {
   "cell_type": "code",
   "execution_count": null,
   "id": "22dfa015",
   "metadata": {},
   "outputs": [],
   "source": [
    "n1 =np.random.randint(1,50,12)\n",
    "print(n1)"
   ]
  },
  {
   "cell_type": "markdown",
   "id": "bdb8d7b1",
   "metadata": {},
   "source": [
    "#### Mean,Median,Standard Deviation\n"
   ]
  },
  {
   "cell_type": "code",
   "execution_count": null,
   "id": "8031a8d6",
   "metadata": {},
   "outputs": [],
   "source": [
    "np.mean(n1)"
   ]
  },
  {
   "cell_type": "code",
   "execution_count": null,
   "id": "38c77a84",
   "metadata": {},
   "outputs": [],
   "source": [
    "np.median(n1)"
   ]
  },
  {
   "cell_type": "code",
   "execution_count": null,
   "id": "4708f187",
   "metadata": {},
   "outputs": [],
   "source": [
    "np.std(n1)"
   ]
  },
  {
   "cell_type": "markdown",
   "id": "7e6d506c",
   "metadata": {},
   "source": [
    "#### Numpy Save & Load"
   ]
  },
  {
   "cell_type": "code",
   "execution_count": null,
   "id": "e877c8d9",
   "metadata": {},
   "outputs": [],
   "source": [
    "np.save('myarray',n1)"
   ]
  },
  {
   "cell_type": "code",
   "execution_count": null,
   "id": "8667ed39",
   "metadata": {},
   "outputs": [],
   "source": [
    "new_n1=np.load('myarray.npy')\n",
    "print(new_n1)"
   ]
  },
  {
   "cell_type": "markdown",
   "id": "ad022c06",
   "metadata": {},
   "source": [
    "### Numpy Array Indexing"
   ]
  },
  {
   "cell_type": "code",
   "execution_count": null,
   "id": "15eaf9d4",
   "metadata": {},
   "outputs": [],
   "source": [
    "print(n2[0]) # In one dimension\n",
    "print(n3[1,2])# In two dimension"
   ]
  },
  {
   "cell_type": "markdown",
   "id": "17adad14",
   "metadata": {},
   "source": [
    "##### Add Elements"
   ]
  },
  {
   "cell_type": "code",
   "execution_count": null,
   "id": "8a0eb970",
   "metadata": {},
   "outputs": [],
   "source": [
    "print(n3[1,1]+n3[1,3])\n",
    "print(n3)\n",
    "print(n3*5)"
   ]
  },
  {
   "cell_type": "code",
   "execution_count": null,
   "id": "e6049f49",
   "metadata": {},
   "outputs": [],
   "source": [
    "#Slicing in one dimension array\n",
    "print(n2[0:3])\n",
    "print(n2[1::2])"
   ]
  },
  {
   "cell_type": "code",
   "execution_count": null,
   "id": "0f10ec1c",
   "metadata": {},
   "outputs": [],
   "source": [
    "#IN 2D Array\n",
    "print(n3[1,1:4])"
   ]
  },
  {
   "cell_type": "code",
   "execution_count": null,
   "id": "aa2015e1",
   "metadata": {},
   "outputs": [],
   "source": [
    "#In 3D Array\n",
    "print(n4[0,1,:3])"
   ]
  },
  {
   "cell_type": "code",
   "execution_count": null,
   "id": "4151209e",
   "metadata": {},
   "outputs": [],
   "source": [
    "arr=np.array(['a','b','c','d'])\n",
    "print(arr.dtype)"
   ]
  },
  {
   "cell_type": "code",
   "execution_count": null,
   "id": "ed963966",
   "metadata": {},
   "outputs": [],
   "source": [
    "arr1=np.array([1,2,3,4],dtype='i4')\n",
    "print(arr1)\n",
    "print(arr1.dtype)"
   ]
  },
  {
   "cell_type": "markdown",
   "id": "1a5040ca",
   "metadata": {},
   "source": [
    "# PYTHON PANDAS\n",
    "Pandas stands for Panel Data and is the core library for manipulation and data analysis.\n",
    "It consists of single and multi-dimensional data-structures for data-manipulation."
   ]
  },
  {
   "cell_type": "markdown",
   "id": "4d702356",
   "metadata": {},
   "source": [
    "## Pandas Data Object"
   ]
  },
  {
   "cell_type": "markdown",
   "id": "49e6b030",
   "metadata": {},
   "source": [
    "Series Object is one-dimensional labeled array"
   ]
  },
  {
   "cell_type": "code",
   "execution_count": null,
   "id": "e5ea30b3",
   "metadata": {},
   "outputs": [],
   "source": [
    "import pandas as pd"
   ]
  },
  {
   "cell_type": "code",
   "execution_count": null,
   "id": "db1d7667",
   "metadata": {},
   "outputs": [],
   "source": [
    "s1=pd.Series([1,2,3,4,5])\n",
    "print(s1)"
   ]
  },
  {
   "cell_type": "code",
   "execution_count": null,
   "id": "0f14519d",
   "metadata": {},
   "outputs": [],
   "source": [
    "print(type(s1))"
   ]
  },
  {
   "cell_type": "markdown",
   "id": "45ce13ae",
   "metadata": {},
   "source": [
    "#### Changing Index"
   ]
  },
  {
   "cell_type": "code",
   "execution_count": null,
   "id": "df00a76d",
   "metadata": {},
   "outputs": [],
   "source": [
    "s1=pd.Series([1,2,3,4,5],index=['a','b','c','d','e'])\n",
    "print(s1)"
   ]
  },
  {
   "cell_type": "markdown",
   "id": "2e1d01ce",
   "metadata": {},
   "source": [
    "### Series object from Dictionary"
   ]
  },
  {
   "cell_type": "code",
   "execution_count": null,
   "id": "44e26fad",
   "metadata": {},
   "outputs": [],
   "source": [
    "s4=pd.Series({'k1':100,'k2':200,'k3':300})\n",
    "print(s4)"
   ]
  },
  {
   "cell_type": "markdown",
   "id": "52ae78fe",
   "metadata": {},
   "source": [
    "#### Changing Index position"
   ]
  },
  {
   "cell_type": "code",
   "execution_count": null,
   "id": "a2e54c5d",
   "metadata": {},
   "outputs": [],
   "source": [
    "s5=pd.Series({'k1':100,'k2':200,'k3':300},index=['k3','k2','k1'])\n",
    "print(s5)"
   ]
  },
  {
   "cell_type": "markdown",
   "id": "390b6f86",
   "metadata": {},
   "source": [
    "#### Extracting Individual Elements"
   ]
  },
  {
   "cell_type": "code",
   "execution_count": null,
   "id": "77fe0ed9",
   "metadata": {},
   "outputs": [],
   "source": [
    "s1=pd.Series([1,2,3,4,5,6,7,8,9])\n",
    "print(s1)"
   ]
  },
  {
   "cell_type": "code",
   "execution_count": null,
   "id": "4a51b8f8",
   "metadata": {},
   "outputs": [],
   "source": [
    "s1[5:]"
   ]
  },
  {
   "cell_type": "code",
   "execution_count": null,
   "id": "02fc16ca",
   "metadata": {},
   "outputs": [],
   "source": [
    "s1[:-5]"
   ]
  },
  {
   "cell_type": "code",
   "execution_count": null,
   "id": "35c093b0",
   "metadata": {},
   "outputs": [],
   "source": [
    "s1[:4]"
   ]
  },
  {
   "cell_type": "markdown",
   "id": "e62780dc",
   "metadata": {},
   "source": [
    "### Basic Math Operators on Series"
   ]
  },
  {
   "cell_type": "code",
   "execution_count": null,
   "id": "15a65721",
   "metadata": {
    "scrolled": true
   },
   "outputs": [],
   "source": [
    "print(s1+10)"
   ]
  },
  {
   "cell_type": "code",
   "execution_count": null,
   "id": "edf8837c",
   "metadata": {},
   "outputs": [],
   "source": [
    "print(s1/2)"
   ]
  },
  {
   "cell_type": "code",
   "execution_count": null,
   "id": "5426f40d",
   "metadata": {},
   "outputs": [],
   "source": [
    "s2=pd.Series([10,20,30,40,50,60,70,80,90])\n",
    "print(s2,s1)"
   ]
  },
  {
   "cell_type": "code",
   "execution_count": null,
   "id": "a3dd8919",
   "metadata": {},
   "outputs": [],
   "source": [
    "print(s1+s2)"
   ]
  },
  {
   "cell_type": "markdown",
   "id": "4193a6ba",
   "metadata": {},
   "source": [
    "## Pandas Dataframe\n",
    "#Dataframe is a 2-dimensional labelled data stucture. A data-frame comprises of rows and coloumns"
   ]
  },
  {
   "cell_type": "code",
   "execution_count": null,
   "id": "7d746a10",
   "metadata": {},
   "outputs": [],
   "source": [
    "import pandas as pd"
   ]
  },
  {
   "cell_type": "code",
   "execution_count": null,
   "id": "be1f7f29",
   "metadata": {},
   "outputs": [],
   "source": [
    "pd.DataFrame({'Name':['Anne','bob','mat','sun'],'Marks':[75,65,84,69]})"
   ]
  },
  {
   "cell_type": "markdown",
   "id": "087a9b83",
   "metadata": {},
   "source": [
    "### Dataframe In-Built Functions"
   ]
  },
  {
   "cell_type": "code",
   "execution_count": null,
   "id": "7b394f0b",
   "metadata": {},
   "outputs": [],
   "source": [
    "iris=pd.read_excel(r\"C:\\Users\\USER\\Downloads\\Sample-Superstore-Subset-Excel (1).xlsx\")\n",
    "iris"
   ]
  },
  {
   "cell_type": "code",
   "execution_count": null,
   "id": "763a7928",
   "metadata": {},
   "outputs": [],
   "source": [
    "iris.head()"
   ]
  },
  {
   "cell_type": "code",
   "execution_count": null,
   "id": "4c3ccbd4",
   "metadata": {},
   "outputs": [],
   "source": [
    "iris.tail()"
   ]
  },
  {
   "cell_type": "code",
   "execution_count": null,
   "id": "74cc9273",
   "metadata": {},
   "outputs": [],
   "source": [
    "iris.shape"
   ]
  },
  {
   "cell_type": "code",
   "execution_count": null,
   "id": "459b8827",
   "metadata": {},
   "outputs": [],
   "source": [
    "iris.describe()"
   ]
  },
  {
   "cell_type": "code",
   "execution_count": null,
   "id": "ac814a1c",
   "metadata": {},
   "outputs": [],
   "source": [
    "iris.iloc[5:10,2:]"
   ]
  },
  {
   "cell_type": "code",
   "execution_count": null,
   "id": "68f2f5aa",
   "metadata": {},
   "outputs": [],
   "source": [
    "iris.loc[0:8,(\"Unit Price\",\"Shipping Cost\")]"
   ]
  },
  {
   "cell_type": "markdown",
   "id": "897abd8f",
   "metadata": {},
   "source": [
    "### Dropping Column"
   ]
  },
  {
   "cell_type": "code",
   "execution_count": null,
   "id": "676210f1",
   "metadata": {},
   "outputs": [],
   "source": [
    "iris.drop('Ship Mode',axis=1)"
   ]
  },
  {
   "cell_type": "code",
   "execution_count": null,
   "id": "75aad1e4",
   "metadata": {},
   "outputs": [],
   "source": [
    "iris.drop([4,5,6,8,9],axis=0)"
   ]
  },
  {
   "cell_type": "markdown",
   "id": "f8e8eeb2",
   "metadata": {},
   "source": [
    "### More Pandas Functions"
   ]
  },
  {
   "cell_type": "code",
   "execution_count": null,
   "id": "44e59ea1",
   "metadata": {},
   "outputs": [],
   "source": [
    "iris.min()"
   ]
  },
  {
   "cell_type": "code",
   "execution_count": null,
   "id": "22c5c6cc",
   "metadata": {},
   "outputs": [],
   "source": [
    "iris.max()"
   ]
  },
  {
   "cell_type": "code",
   "execution_count": null,
   "id": "27092d88",
   "metadata": {},
   "outputs": [],
   "source": [
    "iris.mean()"
   ]
  },
  {
   "cell_type": "code",
   "execution_count": null,
   "id": "86951d23",
   "metadata": {},
   "outputs": [],
   "source": [
    "iris.median()"
   ]
  },
  {
   "cell_type": "code",
   "execution_count": null,
   "id": "b9934f6c",
   "metadata": {},
   "outputs": [],
   "source": [
    "def double_make(s):\n",
    "    return s*2"
   ]
  },
  {
   "cell_type": "code",
   "execution_count": null,
   "id": "d6044d74",
   "metadata": {},
   "outputs": [],
   "source": [
    "iris[['Unit Price','Shipping Cost']].apply(double_make)"
   ]
  },
  {
   "cell_type": "code",
   "execution_count": null,
   "id": "7004f800",
   "metadata": {},
   "outputs": [],
   "source": [
    "iris['Product Category'].value_counts()"
   ]
  },
  {
   "cell_type": "code",
   "execution_count": null,
   "id": "5756f41d",
   "metadata": {},
   "outputs": [],
   "source": [
    "iris.sort_values(by='Region')"
   ]
  },
  {
   "cell_type": "markdown",
   "id": "3a679fa3",
   "metadata": {},
   "source": [
    "# Python Matplotlib\n",
    "Matplotlib is a python library used for data Visualizatiion.You can create bar-plots,scatter-plots, histograms and a lot more with matplotlib"
   ]
  },
  {
   "cell_type": "markdown",
   "id": "7486254c",
   "metadata": {},
   "source": [
    "### Line Plot"
   ]
  },
  {
   "cell_type": "code",
   "execution_count": null,
   "id": "8600d25b",
   "metadata": {},
   "outputs": [],
   "source": [
    "import numpy as np\n",
    "from matplotlib import pyplot as plt"
   ]
  },
  {
   "cell_type": "code",
   "execution_count": null,
   "id": "0fbccb49",
   "metadata": {},
   "outputs": [],
   "source": [
    "x= np.arange(10,110,10)\n",
    "print(x)"
   ]
  },
  {
   "cell_type": "code",
   "execution_count": null,
   "id": "25fc19a8",
   "metadata": {},
   "outputs": [],
   "source": [
    "y=3*x\n",
    "print(y)"
   ]
  },
  {
   "cell_type": "code",
   "execution_count": null,
   "id": "12b03f93",
   "metadata": {},
   "outputs": [],
   "source": [
    "plt.plot(x,y,color='g',linestyle=':',linewidth=5)\n",
    "plt.title(\"Line Plot\")\n",
    "plt.xlabel('X-axis')\n",
    "plt.ylabel('Y-axis')"
   ]
  },
  {
   "cell_type": "markdown",
   "id": "0c8e29c0",
   "metadata": {},
   "source": [
    "##### Changing Line Aesthetics"
   ]
  },
  {
   "cell_type": "code",
   "execution_count": null,
   "id": "567a2eb2",
   "metadata": {},
   "outputs": [],
   "source": [
    "y1=2*x\n",
    "y2=3*x\n",
    "print(y2,y1)"
   ]
  },
  {
   "cell_type": "code",
   "execution_count": null,
   "id": "fa01d2f9",
   "metadata": {},
   "outputs": [],
   "source": [
    "plt.plot(x,y1,color='r',linestyle=':')\n",
    "plt.plot(x,y2,color='y',linewidth=4)\n",
    "plt.title(\"two Lines in a Plot\")\n",
    "plt.grid(True)\n",
    "plt.xlabel('X-axis')\n",
    "plt.ylabel('Y-axis')\n",
    "plt.show()\n"
   ]
  },
  {
   "cell_type": "code",
   "execution_count": null,
   "id": "d69424a2",
   "metadata": {},
   "outputs": [],
   "source": [
    "plt.subplot(2,1,1)\n",
    "plt.plot(x,y1,color='r',linestyle=':')\n",
    "\n",
    "\n",
    "\n",
    "plt.subplot(2,1,2)\n",
    "plt.plot(x,y2,color='y',linewidth=4)\n",
    "plt.title(\"two Lines in a Plot\")\n",
    "plt.grid(True)\n",
    "plt.xlabel('X-axis')\n",
    "plt.ylabel('Y-axis')\n"
   ]
  },
  {
   "cell_type": "markdown",
   "id": "ad7b3068",
   "metadata": {},
   "source": [
    "## Bar Plot"
   ]
  },
  {
   "cell_type": "code",
   "execution_count": null,
   "id": "1d93e147",
   "metadata": {},
   "outputs": [],
   "source": [
    "import numpy as np\n",
    "from matplotlib import pyplot as plt"
   ]
  },
  {
   "cell_type": "code",
   "execution_count": null,
   "id": "bef9d58f",
   "metadata": {},
   "outputs": [],
   "source": [
    "student={'bob':87,'jully':91,'anu':65,'anit':45}"
   ]
  },
  {
   "cell_type": "code",
   "execution_count": null,
   "id": "b28b2c4f",
   "metadata": {},
   "outputs": [],
   "source": [
    "names =list(student.keys())\n",
    "print(names)"
   ]
  },
  {
   "cell_type": "code",
   "execution_count": null,
   "id": "1d8573c2",
   "metadata": {},
   "outputs": [],
   "source": [
    "values=list(student.values())\n",
    "print(values)"
   ]
  },
  {
   "cell_type": "code",
   "execution_count": null,
   "id": "ddf02de0",
   "metadata": {},
   "outputs": [],
   "source": [
    "plt.bar(names,values,color='r',linewidth=5)\n",
    "plt.title('Distribution of student marks')\n",
    "plt.xlabel('Names of students')\n",
    "plt.ylabel('Marks of students')\n"
   ]
  },
  {
   "cell_type": "markdown",
   "id": "2b9e2175",
   "metadata": {},
   "source": [
    "\n",
    "\n",
    "\n",
    "\n",
    "\n",
    "\n",
    "### Horizontal Bar Plot"
   ]
  },
  {
   "cell_type": "code",
   "execution_count": null,
   "id": "a5e6d6a9",
   "metadata": {},
   "outputs": [],
   "source": [
    "plt.barh(names,values,color='g')\n",
    "plt.title('Distribution of student marks')\n",
    "plt.xlabel('Names of students')\n",
    "plt.ylabel('Marks of students')\n"
   ]
  },
  {
   "cell_type": "markdown",
   "id": "cd5d954a",
   "metadata": {},
   "source": [
    "## Scatter Plot"
   ]
  },
  {
   "cell_type": "code",
   "execution_count": null,
   "id": "0220fa02",
   "metadata": {},
   "outputs": [],
   "source": [
    "x=[10,20,30,40,50,60,70,80,90]\n",
    "y=[5,6,2,4,3,8,9,7,1]\n",
    "print(x)\n",
    "print(y)"
   ]
  },
  {
   "cell_type": "code",
   "execution_count": null,
   "id": "323fb1ac",
   "metadata": {},
   "outputs": [],
   "source": [
    "plt.scatter(x,y, marker='*',s=100)"
   ]
  },
  {
   "cell_type": "code",
   "execution_count": null,
   "id": "4f1717fc",
   "metadata": {},
   "outputs": [],
   "source": [
    "x=[1,2,3,4,5,6,7,8,9]\n",
    "y=[5,6,2,4,3,8,9,7,1]\n",
    "z=[5,8,2,9,1,3,7,5,4]"
   ]
  },
  {
   "cell_type": "code",
   "execution_count": null,
   "id": "2f5541ca",
   "metadata": {},
   "outputs": [],
   "source": [
    "plt.scatter(x,y,marker=\"*\")\n",
    "plt.scatter(x,z)"
   ]
  },
  {
   "cell_type": "code",
   "execution_count": null,
   "id": "9149dce8",
   "metadata": {},
   "outputs": [],
   "source": [
    "x=[10,20,30,40,50,60,70,80,90]\n",
    "y=[5,6,2,4,3,8,9,7,1]\n",
    "z=[5,8,2,9,1,3,7,5,4]"
   ]
  },
  {
   "cell_type": "code",
   "execution_count": null,
   "id": "7f626f98",
   "metadata": {},
   "outputs": [],
   "source": [
    "plt.subplot(1,2,1)\n",
    "plt.scatter(x,y, marker='*',s=100)\n",
    "plt.subplot(1,2,2)\n",
    "plt.scatter(x,z,s=100,c='r')"
   ]
  },
  {
   "cell_type": "markdown",
   "id": "1ab95220",
   "metadata": {},
   "source": [
    "## Histogram"
   ]
  },
  {
   "cell_type": "code",
   "execution_count": null,
   "id": "e53a6c5f",
   "metadata": {},
   "outputs": [],
   "source": [
    "data=[5,9,4,6,2,3,1,5,6,7,8,9,4,5,6,5,2,2,1,6,4,6,3,2]"
   ]
  },
  {
   "cell_type": "code",
   "execution_count": null,
   "id": "cd3c4cfd",
   "metadata": {},
   "outputs": [],
   "source": [
    "plt.hist(data,color='r',bins=5)"
   ]
  },
  {
   "cell_type": "markdown",
   "id": "0e427844",
   "metadata": {},
   "source": [
    "##### Working with a dataset"
   ]
  },
  {
   "cell_type": "code",
   "execution_count": null,
   "id": "29fdd39b",
   "metadata": {},
   "outputs": [],
   "source": [
    "iris.head()"
   ]
  },
  {
   "cell_type": "code",
   "execution_count": null,
   "id": "54473fc8",
   "metadata": {},
   "outputs": [],
   "source": [
    "plt.hist(iris['Shipping Cost'],color='g')\n",
    "plt.show()"
   ]
  },
  {
   "cell_type": "markdown",
   "id": "423bbb82",
   "metadata": {},
   "source": [
    "## Box-Plot"
   ]
  },
  {
   "cell_type": "code",
   "execution_count": null,
   "id": "b2147eec",
   "metadata": {},
   "outputs": [],
   "source": [
    "#Creating data"
   ]
  },
  {
   "cell_type": "code",
   "execution_count": null,
   "id": "7af35496",
   "metadata": {},
   "outputs": [],
   "source": [
    "one=[1,2,3,4,5,6,7,8,9]\n",
    "two=[5,4,7,8,9,6,3,2,1]\n",
    "three=[1,6,7,9,8,5,4,2,3]"
   ]
  },
  {
   "cell_type": "code",
   "execution_count": null,
   "id": "a19957f7",
   "metadata": {},
   "outputs": [],
   "source": [
    "data=list([one,two,three])\n",
    "print(data)"
   ]
  },
  {
   "cell_type": "code",
   "execution_count": null,
   "id": "67a13207",
   "metadata": {},
   "outputs": [],
   "source": [
    "plt.boxplot(data)\n",
    "plt.show()"
   ]
  },
  {
   "cell_type": "markdown",
   "id": "a68e0768",
   "metadata": {},
   "source": [
    "## Violin-PLot"
   ]
  },
  {
   "cell_type": "code",
   "execution_count": null,
   "id": "33d408ef",
   "metadata": {},
   "outputs": [],
   "source": [
    "print(one)\n",
    "print(two)\n",
    "print(three)"
   ]
  },
  {
   "cell_type": "code",
   "execution_count": null,
   "id": "3d00cc44",
   "metadata": {},
   "outputs": [],
   "source": [
    "plt.violinplot(data)\n",
    "plt.show()"
   ]
  },
  {
   "cell_type": "markdown",
   "id": "f69abfa0",
   "metadata": {},
   "source": [
    "## Pie Chart"
   ]
  },
  {
   "cell_type": "code",
   "execution_count": null,
   "id": "8a0be518",
   "metadata": {},
   "outputs": [],
   "source": [
    "fruit=['apple','mango','orange','guava']\n",
    "rates=[100,60,80,30]"
   ]
  },
  {
   "cell_type": "code",
   "execution_count": null,
   "id": "ed439c92",
   "metadata": {},
   "outputs": [],
   "source": [
    "plt.pie(rates,labels=fruit)\n",
    "plt.show()"
   ]
  },
  {
   "cell_type": "code",
   "execution_count": null,
   "id": "0bafd36d",
   "metadata": {},
   "outputs": [],
   "source": [
    "plt.pie(rates,labels=fruit,autopct='%0.1f%%',colors=['yellow','blue','green','red','orange'])\n",
    "plt.show()"
   ]
  },
  {
   "cell_type": "markdown",
   "id": "a762de30",
   "metadata": {},
   "source": [
    "## DoughNut Chart"
   ]
  },
  {
   "cell_type": "code",
   "execution_count": null,
   "id": "43ced838",
   "metadata": {},
   "outputs": [],
   "source": [
    "plt.pie(rates,labels=fruit,radius=2)\n",
    "plt.pie([100],radius=1,colors=['w'])\n",
    "\n",
    "plt.show()"
   ]
  },
  {
   "cell_type": "markdown",
   "id": "78c349f1",
   "metadata": {},
   "source": [
    "# Sea-Born Line Plot"
   ]
  },
  {
   "cell_type": "code",
   "execution_count": null,
   "id": "63436404",
   "metadata": {},
   "outputs": [],
   "source": [
    "import seaborn as sns\n",
    "from matplotlib import pyplot as plt"
   ]
  },
  {
   "cell_type": "code",
   "execution_count": null,
   "id": "3d96b4a6",
   "metadata": {},
   "outputs": [],
   "source": [
    "\"Omit SeaBorn\""
   ]
  },
  {
   "cell_type": "code",
   "execution_count": null,
   "id": "0900f1f9",
   "metadata": {},
   "outputs": [],
   "source": []
  }
 ],
 "metadata": {
  "kernelspec": {
   "display_name": "Python 3 (ipykernel)",
   "language": "python",
   "name": "python3"
  },
  "language_info": {
   "codemirror_mode": {
    "name": "ipython",
    "version": 3
   },
   "file_extension": ".py",
   "mimetype": "text/x-python",
   "name": "python",
   "nbconvert_exporter": "python",
   "pygments_lexer": "ipython3",
   "version": "3.11.4"
  }
 },
 "nbformat": 4,
 "nbformat_minor": 5
}
